{
 "cells": [
  {
   "cell_type": "markdown",
   "id": "37cf9fa7-81c7-479f-bd3e-35b98bdfd246",
   "metadata": {},
   "source": [
    "# Exploratory Data Analysis - EDA\n",
    "\n",
    "EDA is applied to investigate the data and summarize the key insights. It will give you the basic understanding of your data, it’s distribution, null values and much more.\n",
    "You can either explore data using graphs or through some python functions.\n",
    "There will be two type of analysis. Univariate and Bivariate. In the univariate, you will be analyzing a single attribute. But in the bivariate, you will be analyzing an attribute with the target attribute.\n",
    "In the non-graphical approach, you will be using functions such as shape, summary, describe, isnull, info, datatypes and more.\n",
    "In the graphical approach, you will be using plots such as scatter, box, bar, density and correlation plots.\n"
   ]
  },
  {
   "cell_type": "markdown",
   "id": "1defdb4c-bbb6-4e9e-833c-eba0acc5c5e0",
   "metadata": {},
   "source": [
    "# Load the Data\n",
    "\n",
    "Well, first things first. We will load the titanic dataset into python to perform EDA.\n"
   ]
  },
  {
   "cell_type": "code",
   "execution_count": 1,
   "id": "afe1eee2-3b35-45d2-8843-bd584698afe6",
   "metadata": {},
   "outputs": [],
   "source": [
    "#Load the required libraries\n",
    "import pandas as pd\n",
    "import numpy as np\n",
    "import seaborn as sns\n",
    "\n",
    "#Load the data\n",
    "df = sns.load_dataset('titanic')"
   ]
  },
  {
   "cell_type": "code",
   "execution_count": 2,
   "id": "47db1f06-3328-495e-94ee-8ec7060aaef9",
   "metadata": {},
   "outputs": [
    {
     "data": {
      "text/html": [
       "<div>\n",
       "<style scoped>\n",
       "    .dataframe tbody tr th:only-of-type {\n",
       "        vertical-align: middle;\n",
       "    }\n",
       "\n",
       "    .dataframe tbody tr th {\n",
       "        vertical-align: top;\n",
       "    }\n",
       "\n",
       "    .dataframe thead th {\n",
       "        text-align: right;\n",
       "    }\n",
       "</style>\n",
       "<table border=\"1\" class=\"dataframe\">\n",
       "  <thead>\n",
       "    <tr style=\"text-align: right;\">\n",
       "      <th></th>\n",
       "      <th>survived</th>\n",
       "      <th>pclass</th>\n",
       "      <th>sex</th>\n",
       "      <th>age</th>\n",
       "      <th>sibsp</th>\n",
       "      <th>parch</th>\n",
       "      <th>fare</th>\n",
       "      <th>embarked</th>\n",
       "      <th>class</th>\n",
       "      <th>who</th>\n",
       "      <th>adult_male</th>\n",
       "      <th>deck</th>\n",
       "      <th>embark_town</th>\n",
       "      <th>alive</th>\n",
       "      <th>alone</th>\n",
       "    </tr>\n",
       "  </thead>\n",
       "  <tbody>\n",
       "    <tr>\n",
       "      <th>0</th>\n",
       "      <td>0</td>\n",
       "      <td>3</td>\n",
       "      <td>male</td>\n",
       "      <td>22.0</td>\n",
       "      <td>1</td>\n",
       "      <td>0</td>\n",
       "      <td>7.2500</td>\n",
       "      <td>S</td>\n",
       "      <td>Third</td>\n",
       "      <td>man</td>\n",
       "      <td>True</td>\n",
       "      <td>NaN</td>\n",
       "      <td>Southampton</td>\n",
       "      <td>no</td>\n",
       "      <td>False</td>\n",
       "    </tr>\n",
       "    <tr>\n",
       "      <th>1</th>\n",
       "      <td>1</td>\n",
       "      <td>1</td>\n",
       "      <td>female</td>\n",
       "      <td>38.0</td>\n",
       "      <td>1</td>\n",
       "      <td>0</td>\n",
       "      <td>71.2833</td>\n",
       "      <td>C</td>\n",
       "      <td>First</td>\n",
       "      <td>woman</td>\n",
       "      <td>False</td>\n",
       "      <td>C</td>\n",
       "      <td>Cherbourg</td>\n",
       "      <td>yes</td>\n",
       "      <td>False</td>\n",
       "    </tr>\n",
       "    <tr>\n",
       "      <th>2</th>\n",
       "      <td>1</td>\n",
       "      <td>3</td>\n",
       "      <td>female</td>\n",
       "      <td>26.0</td>\n",
       "      <td>0</td>\n",
       "      <td>0</td>\n",
       "      <td>7.9250</td>\n",
       "      <td>S</td>\n",
       "      <td>Third</td>\n",
       "      <td>woman</td>\n",
       "      <td>False</td>\n",
       "      <td>NaN</td>\n",
       "      <td>Southampton</td>\n",
       "      <td>yes</td>\n",
       "      <td>True</td>\n",
       "    </tr>\n",
       "    <tr>\n",
       "      <th>3</th>\n",
       "      <td>1</td>\n",
       "      <td>1</td>\n",
       "      <td>female</td>\n",
       "      <td>35.0</td>\n",
       "      <td>1</td>\n",
       "      <td>0</td>\n",
       "      <td>53.1000</td>\n",
       "      <td>S</td>\n",
       "      <td>First</td>\n",
       "      <td>woman</td>\n",
       "      <td>False</td>\n",
       "      <td>C</td>\n",
       "      <td>Southampton</td>\n",
       "      <td>yes</td>\n",
       "      <td>False</td>\n",
       "    </tr>\n",
       "    <tr>\n",
       "      <th>4</th>\n",
       "      <td>0</td>\n",
       "      <td>3</td>\n",
       "      <td>male</td>\n",
       "      <td>35.0</td>\n",
       "      <td>0</td>\n",
       "      <td>0</td>\n",
       "      <td>8.0500</td>\n",
       "      <td>S</td>\n",
       "      <td>Third</td>\n",
       "      <td>man</td>\n",
       "      <td>True</td>\n",
       "      <td>NaN</td>\n",
       "      <td>Southampton</td>\n",
       "      <td>no</td>\n",
       "      <td>True</td>\n",
       "    </tr>\n",
       "  </tbody>\n",
       "</table>\n",
       "</div>"
      ],
      "text/plain": [
       "   survived  pclass     sex   age  sibsp  parch     fare embarked  class  \\\n",
       "0         0       3    male  22.0      1      0   7.2500        S  Third   \n",
       "1         1       1  female  38.0      1      0  71.2833        C  First   \n",
       "2         1       3  female  26.0      0      0   7.9250        S  Third   \n",
       "3         1       1  female  35.0      1      0  53.1000        S  First   \n",
       "4         0       3    male  35.0      0      0   8.0500        S  Third   \n",
       "\n",
       "     who  adult_male deck  embark_town alive  alone  \n",
       "0    man        True  NaN  Southampton    no  False  \n",
       "1  woman       False    C    Cherbourg   yes  False  \n",
       "2  woman       False  NaN  Southampton   yes   True  \n",
       "3  woman       False    C  Southampton   yes  False  \n",
       "4    man        True  NaN  Southampton    no   True  "
      ]
     },
     "execution_count": 2,
     "metadata": {},
     "output_type": "execute_result"
    }
   ],
   "source": [
    "#View the data\n",
    "df.head()"
   ]
  },
  {
   "cell_type": "code",
   "execution_count": null,
   "id": "c6306a6f-475c-469c-919b-2a470cee4bfc",
   "metadata": {},
   "outputs": [],
   "source": []
  },
  {
   "cell_type": "code",
   "execution_count": null,
   "id": "a0f1418b-c4ab-44e0-bc2e-e799782e8c15",
   "metadata": {},
   "outputs": [],
   "source": []
  },
  {
   "cell_type": "code",
   "execution_count": null,
   "id": "56f4ba0b-776d-486e-ba5e-3611ad6abd39",
   "metadata": {},
   "outputs": [],
   "source": []
  },
  {
   "cell_type": "code",
   "execution_count": null,
   "id": "dd56629f-c761-49b2-8fc5-01a61afab7ad",
   "metadata": {},
   "outputs": [],
   "source": []
  },
  {
   "cell_type": "markdown",
   "id": "61e7fdf6-fc63-4f4c-9531-a22fbc2f848f",
   "metadata": {
    "id": "mWFzBgwKJy95",
    "tags": []
   },
   "source": [
    "### Measures of Central Tendency"
   ]
  },
  {
   "cell_type": "markdown",
   "id": "221453ac-8c66-42ea-aeb9-3f015b0dfd11",
   "metadata": {
    "id": "2wAeml4zJy95"
   },
   "source": [
    "Measures of central tendency provide a summary statistic on the center of a given distribution, a.k.a., the \"average\" value of the distribution."
   ]
  },
  {
   "cell_type": "code",
   "execution_count": 25,
   "id": "a8283243-c99f-423c-aac9-3633d1b7e353",
   "metadata": {
    "id": "4GYvSKu9Jy95"
   },
   "outputs": [],
   "source": [
    "x = np.array(df.age)"
   ]
  },
  {
   "cell_type": "code",
   "execution_count": 26,
   "id": "90b964a3-3518-4c01-9cd1-2775447fac2c",
   "metadata": {
    "colab": {
     "base_uri": "https://localhost:8080/"
    },
    "id": "NfkkNUXcJy95",
    "outputId": "5ae048d9-965c-456d-d428-d5f654b2ff74"
   },
   "outputs": [
    {
     "data": {
      "text/plain": [
       "array([22., 38., 26., 35., 35., nan, 54.,  2., 27., 14.,  4., 58., 20.,\n",
       "       39., 14., 55.,  2., nan, 31., nan])"
      ]
     },
     "execution_count": 26,
     "metadata": {},
     "output_type": "execute_result"
    }
   ],
   "source": [
    "x[0:20]"
   ]
  },
  {
   "cell_type": "code",
   "execution_count": 27,
   "id": "3a3b81d1-828f-4d14-a604-ed0778259846",
   "metadata": {},
   "outputs": [
    {
     "data": {
      "text/plain": [
       "<AxesSubplot:ylabel='Count'>"
      ]
     },
     "execution_count": 27,
     "metadata": {},
     "output_type": "execute_result"
    },
    {
     "data": {
      "image/png": "[encoded data removed]",
      "text/plain": [
       "<Figure size 640x480 with 1 Axes>"
      ]
     },
     "metadata": {},
     "output_type": "display_data"
    }
   ],
   "source": [
    "sns.histplot(x, color = 'lightgray')"
   ]
  },
  {
   "cell_type": "markdown",
   "id": "be8c736b-9ccf-4869-9799-78acd91f7212",
   "metadata": {
    "id": "z8wAQUQaJy97"
   },
   "source": [
    "#### Mean"
   ]
  },
  {
   "cell_type": "markdown",
   "id": "41b90541-ffb6-4ec5-9306-369ff7eb8909",
   "metadata": {
    "id": "JVzPrg7AJy97"
   },
   "source": [
    "The most common measure of central tendency, synonomous with the term \"average\", is the **mean**, often symbolized with $\\mu$ (population) or $\\bar{x}$ (sample):"
   ]
  },
  {
   "cell_type": "markdown",
   "id": "7ef1ee4e-dbdb-46b6-88d8-93ca4e3d01f4",
   "metadata": {
    "id": "UoVZlrXkJy97"
   },
   "source": [
    "$$ \\bar{x} = \\frac{\\sum_{i=1}^n x_i}{n} $$"
   ]
  },
  {
   "cell_type": "code",
   "execution_count": 28,
   "id": "9bd7491f-215c-451c-90e6-f2351300cce4",
   "metadata": {
    "colab": {
     "base_uri": "https://localhost:8080/"
    },
    "id": "lnHaPyx4Jy97",
    "outputId": "205d21f0-b7c4-4eb8-8f76-390dfc27374e"
   },
   "outputs": [
    {
     "data": {
      "text/plain": [
       "nan"
      ]
     },
     "execution_count": 28,
     "metadata": {},
     "output_type": "execute_result"
    }
   ],
   "source": [
    "xbar = x.mean()\n",
    "xbar"
   ]
  },
  {
   "cell_type": "code",
   "execution_count": 29,
   "id": "9275c720-9bea-44f1-a637-c74b4fd686e2",
   "metadata": {
    "colab": {
     "base_uri": "https://localhost:8080/",
     "height": 265
    },
    "id": "4lSu__LtJy97",
    "outputId": "4a5a8d6c-6010-401f-b8ac-8b166d4a188f"
   },
   "outputs": [
    {
     "data": {
      "text/plain": [
       "<matplotlib.lines.Line2D at 0x7f570d8ac390>"
      ]
     },
     "execution_count": 29,
     "metadata": {},
     "output_type": "execute_result"
    },
    {
     "data": {
      "image/png": "[encoded data removed]",
      "text/plain": [
       "<Figure size 640x480 with 1 Axes>"
      ]
     },
     "metadata": {},
     "output_type": "display_data"
    }
   ],
   "source": [
    "ax = sns.histplot(x, color = 'lightgray')\n",
    "ax.axvline(x = np.mean(x), color='orange')"
   ]
  },
  {
   "cell_type": "markdown",
   "id": "75f80bd6-d7af-413d-936b-4eac4d6d9cc0",
   "metadata": {},
   "source": [
    "What is the issue? The issue is that the np.mean function on an array with NaN values results in NaN. In order to get results, you need to use the np.nanmean function (there is also a np.nanmedian function)"
   ]
  },
  {
   "cell_type": "code",
   "execution_count": 30,
   "id": "c4e14f24-9c2b-4dce-88b9-3a08146bddfe",
   "metadata": {},
   "outputs": [
    {
     "data": {
      "text/plain": [
       "nan"
      ]
     },
     "execution_count": 30,
     "metadata": {},
     "output_type": "execute_result"
    }
   ],
   "source": [
    "np.mean(x)"
   ]
  },
  {
   "cell_type": "code",
   "execution_count": 33,
   "id": "bd3c007e-3087-41f1-b986-ff31b4069e51",
   "metadata": {},
   "outputs": [
    {
     "data": {
      "text/plain": [
       "<matplotlib.lines.Line2D at 0x7f570dfa06d0>"
      ]
     },
     "execution_count": 33,
     "metadata": {},
     "output_type": "execute_result"
    },
    {
     "data": {
      "image/png": "[encoded data removed]",
      "text/plain": [
       "<Figure size 640x480 with 1 Axes>"
      ]
     },
     "metadata": {},
     "output_type": "display_data"
    }
   ],
   "source": [
    "ax = sns.histplot(x, color = 'lightgray')\n",
    "ax.axvline(x = np.nanmean(x), color='orange')"
   ]
  },
  {
   "cell_type": "markdown",
   "id": "3e47fe47-b129-40c6-93ca-ab8cad218672",
   "metadata": {
    "id": "MN9OBSxfJy98"
   },
   "source": [
    "#### Median"
   ]
  },
  {
   "cell_type": "markdown",
   "id": "7182c82f-10f2-4873-b5b3-8846c2855a30",
   "metadata": {
    "id": "EwGeNSC5Jy98"
   },
   "source": [
    "The second most common measure of central tendency is the **median**, the midpoint value in the distribution: "
   ]
  },
  {
   "cell_type": "code",
   "execution_count": 32,
   "id": "b9e00567-1819-428a-b620-a042e9f6e745",
   "metadata": {
    "colab": {
     "base_uri": "https://localhost:8080/"
    },
    "id": "uS_asMcbJy98",
    "outputId": "bd980696-5db3-41d8-ad0c-d9a163bbfbad"
   },
   "outputs": [
    {
     "data": {
      "text/plain": [
       "28.0"
      ]
     },
     "execution_count": 32,
     "metadata": {},
     "output_type": "execute_result"
    }
   ],
   "source": [
    "np.nanmedian(x) "
   ]
  },
  {
   "cell_type": "markdown",
   "id": "daec53c9-2127-43ed-90a5-5b9dfec6e19a",
   "metadata": {
    "id": "Hr3dHF0NJy98"
   },
   "source": [
    "The **mode** is least impacted by skew, but is typically only applicable to discrete distributions. For continuous distributions with skew (e.g., salary data), median is typically the choice measure of central tendency:"
   ]
  },
  {
   "cell_type": "code",
   "execution_count": 13,
   "id": "d2e74175-ce81-4585-bb17-428cc052ade9",
   "metadata": {},
   "outputs": [
    {
     "data": {
      "text/plain": [
       "29.69911764705882"
      ]
     },
     "execution_count": 13,
     "metadata": {},
     "output_type": "execute_result"
    }
   ],
   "source": [
    "np.mean(x)"
   ]
  },
  {
   "cell_type": "code",
   "execution_count": 90,
   "id": "eb6beee2-4670-45c6-8387-7a3a1774b131",
   "metadata": {},
   "outputs": [],
   "source": [
    "x = df.fare"
   ]
  },
  {
   "cell_type": "code",
   "execution_count": 91,
   "id": "d5c741e2-9de3-4586-ad77-00b4624b0085",
   "metadata": {
    "colab": {
     "base_uri": "https://localhost:8080/",
     "height": 0
    },
    "id": "OzX0e9HLJy98",
    "outputId": "0d514cda-89da-4de5-bb0e-2dc970eda959"
   },
   "outputs": [
    {
     "data": {
      "text/plain": [
       "<matplotlib.lines.Line2D at 0x7f570388c490>"
      ]
     },
     "execution_count": 91,
     "metadata": {},
     "output_type": "execute_result"
    },
    {
     "data": {
      "image/png": "[encoded data removed]",
      "text/plain": [
       "<Figure size 640x480 with 1 Axes>"
      ]
     },
     "metadata": {},
     "output_type": "display_data"
    }
   ],
   "source": [
    "ax = sns.histplot(x, color = 'lightgray')\n",
    "ax.axvline(x = np.nanmean(x), color='orange')\n",
    "ax.axvline(x = np.nanmedian(x), color='green')"
   ]
  },
  {
   "cell_type": "markdown",
   "id": "38c48721-4bbe-474f-a998-ff6e557cc1cb",
   "metadata": {},
   "source": [
    "### Adding a single outlier"
   ]
  },
  {
   "cell_type": "markdown",
   "id": "7a93fd72-453b-49c7-9988-0c1bbd1b6d2a",
   "metadata": {},
   "source": [
    "Let's include an outlier to the age variable. When changing the age of 22 into 22,222 we see two problems arising. First, we can no longer see the distribution on the plot because the range is way too large. So we need to zoom into the region with many points. The second problem is that the mean and the standard deviation measures are affected a lot by these outlier values."
   ]
  },
  {
   "cell_type": "code",
   "execution_count": 84,
   "id": "b0f9f696-4f74-4260-9ba8-444580e0daac",
   "metadata": {},
   "outputs": [],
   "source": [
    "#We keep a copy of the dataframe to alter it for demonstration\n",
    "df_noisy = df.copy()\n",
    "\n",
    "#Outliers\n",
    "df_noisy.loc[0, 'age'] = 22222"
   ]
  },
  {
   "cell_type": "code",
   "execution_count": 85,
   "id": "7f7f9bc1-3191-4e43-b063-e0188c5bbafe",
   "metadata": {},
   "outputs": [],
   "source": [
    "x_noisy = np.array(df_noisy.age)"
   ]
  },
  {
   "cell_type": "code",
   "execution_count": 86,
   "id": "015136ac-3271-446b-8522-e6568e3ac9cf",
   "metadata": {},
   "outputs": [
    {
     "data": {
      "text/plain": [
       "<matplotlib.lines.Line2D at 0x7f5707050e10>"
      ]
     },
     "execution_count": 86,
     "metadata": {},
     "output_type": "execute_result"
    },
    {
     "data": {
      "image/png": "[encoded data removed]",
      "text/plain": [
       "<Figure size 640x480 with 1 Axes>"
      ]
     },
     "metadata": {},
     "output_type": "display_data"
    }
   ],
   "source": [
    "ax = sns.histplot(x_noisy, color = 'lightgray')\n",
    "ax.axvline(np.nanmean(x_noisy), color='orange')\n",
    "ax.axvline(np.nanmedian(x_noisy), color='green')"
   ]
  },
  {
   "cell_type": "markdown",
   "id": "e42873c7-04dd-45e8-bd3c-aee274e412ca",
   "metadata": {},
   "source": [
    "#### Identify outliers\n",
    "\n",
    "If the variable meaning is clear, like the variable *age*, then outliers can be removed simply using common sense. For the variable age, for instance, we could decide to remove all negative values and all values above 100 and replace them by np.nan. \n",
    "\n",
    "When the meaning is not as clear, we can also identify outliers by looking at the data distribution. There are two common ways of identifying outliers. The first one uses **mean** and **standard deviation**. The other one uses **median** and **interquantile range**. Let's begin by the quantile strategy."
   ]
  },
  {
   "cell_type": "code",
   "execution_count": 94,
   "id": "48957463-bb9f-47bd-9555-88cdbc00c969",
   "metadata": {},
   "outputs": [
    {
     "name": "stdout",
     "output_type": "stream",
     "text": [
      "Outliers of x_noisy is : \n",
      " [22222.     66.     65.     71.     70.5    65.     65.     71.     80.\n",
      "    70.     70.     74. ]\n"
     ]
    }
   ],
   "source": [
    "import numpy as np\n",
    " \n",
    "q1 = np.nanpercentile(x_noisy, 25)\n",
    "q3 = np.nanpercentile(x_noisy, 75)\n",
    "iqr = q3 - q1\n",
    "threshold = 1.5 * iqr\n",
    "outliers = (x_noisy < q1 - threshold) | (x_noisy > q3 + threshold)\n",
    " \n",
    "print(\"Outliers of x_noisy is : \\n\", x_noisy[outliers])"
   ]
  },
  {
   "cell_type": "code",
   "execution_count": 83,
   "id": "66fda544-a9be-4ae3-a7ae-b045ddc33590",
   "metadata": {},
   "outputs": [
    {
     "data": {
      "text/plain": [
       "<matplotlib.lines.Line2D at 0x7f57071b1b50>"
      ]
     },
     "execution_count": 83,
     "metadata": {},
     "output_type": "execute_result"
    },
    {
     "data": {
      "image/png": "[encoded data removed]",
      "text/plain": [
       "<Figure size 640x480 with 1 Axes>"
      ]
     },
     "metadata": {},
     "output_type": "display_data"
    }
   ],
   "source": [
    "ax = sns.histplot(x_noisy[~outliers], color = 'lightgray')\n",
    "ax.axvline(np.nanmean(x_noisy), color='orange')\n",
    "ax.axvline(np.nanmedian(x_noisy), color='green')"
   ]
  },
  {
   "cell_type": "code",
   "execution_count": 88,
   "id": "14d34893-4f33-4dd6-a47c-387b3dadd4cb",
   "metadata": {},
   "outputs": [
    {
     "data": {
      "text/plain": [
       "14.516321150817316"
      ]
     },
     "execution_count": 88,
     "metadata": {},
     "output_type": "execute_result"
    }
   ],
   "source": [
    "# What about the standard deviation:\n",
    "\n",
    "np.nanstd(x)"
   ]
  },
  {
   "cell_type": "code",
   "execution_count": 89,
   "id": "1f9c1a4a-5c26-4fda-a2bf-0994e0e28de1",
   "metadata": {},
   "outputs": [
    {
     "data": {
      "text/plain": [
       "830.0706693545154"
      ]
     },
     "execution_count": 89,
     "metadata": {},
     "output_type": "execute_result"
    }
   ],
   "source": [
    "np.nanstd(x_noisy)"
   ]
  },
  {
   "cell_type": "markdown",
   "id": "3c236f51-20cd-4ad1-82e8-cb0421ff0b56",
   "metadata": {},
   "source": [
    "As we can see, the mean is significantly affected by the outlier value, way more than the median is. This is also true for the standard deviation. Since mean and standard deviation are affected a lot more by the presence of outliers than the quantiles are, the method for identifying outliers that is based on quantiles is to be favoured."
   ]
  },
  {
   "cell_type": "code",
   "execution_count": null,
   "id": "521486bc-2e6f-47ee-bcaf-9d247fd9c1ee",
   "metadata": {},
   "outputs": [],
   "source": []
  },
  {
   "cell_type": "markdown",
   "id": "b04976c2-1700-4028-a047-42032f676643",
   "metadata": {},
   "source": [
    "# Titanic 3\n",
    "\n",
    "Our data is ready to be explored!"
   ]
  },
  {
   "cell_type": "markdown",
   "id": "d179a2cc-c785-4ee4-a9a5-d5d4d7e4550d",
   "metadata": {
    "tags": []
   },
   "source": [
    "### Basic information about data - EDA\n",
    "\n",
    "The df.info() function will give us the basic information about the dataset: the number of null values, datatypes, and memory usage. For any data, it is good to start by knowing its information. Let’s see how it works with our data. "
   ]
  },
  {
   "cell_type": "code",
   "execution_count": 17,
   "id": "977337e9-dec8-45d3-9e0b-0543705958a3",
   "metadata": {},
   "outputs": [
    {
     "name": "stdout",
     "output_type": "stream",
     "text": [
      "<class 'pandas.core.frame.DataFrame'>\n",
      "RangeIndex: 627 entries, 0 to 626\n",
      "Data columns (total 10 columns):\n",
      " #   Column              Non-Null Count  Dtype  \n",
      "---  ------              --------------  -----  \n",
      " 0   survived            627 non-null    int64  \n",
      " 1   sex                 627 non-null    object \n",
      " 2   age                 627 non-null    float64\n",
      " 3   n_siblings_spouses  627 non-null    int64  \n",
      " 4   parch               627 non-null    int64  \n",
      " 5   fare                627 non-null    float64\n",
      " 6   class               627 non-null    object \n",
      " 7   deck                627 non-null    object \n",
      " 8   embark_town         627 non-null    object \n",
      " 9   alone               627 non-null    object \n",
      "dtypes: float64(2), int64(3), object(5)\n",
      "memory usage: 49.1+ KB\n"
     ]
    }
   ],
   "source": [
    "#Basic information\n",
    "\n",
    "df.info()"
   ]
  },
  {
   "cell_type": "code",
   "execution_count": 28,
   "id": "cde977d4-10c6-48ca-b43d-018b07b6cdb9",
   "metadata": {},
   "outputs": [
    {
     "name": "stdout",
     "output_type": "stream",
     "text": [
      "<class 'pandas.core.frame.DataFrame'>\n",
      "RangeIndex: 627 entries, 0 to 626\n",
      "Data columns (total 10 columns):\n",
      " #   Column              Non-Null Count  Dtype  \n",
      "---  ------              --------------  -----  \n",
      " 0   survived            627 non-null    int64  \n",
      " 1   sex                 627 non-null    object \n",
      " 2   age                 627 non-null    float64\n",
      " 3   n_siblings_spouses  627 non-null    int64  \n",
      " 4   parch               616 non-null    float64\n",
      " 5   fare                627 non-null    float64\n",
      " 6   class               627 non-null    object \n",
      " 7   deck                627 non-null    object \n",
      " 8   embark_town         627 non-null    object \n",
      " 9   alone               627 non-null    object \n",
      "dtypes: float64(3), int64(2), object(5)\n",
      "memory usage: 49.1+ KB\n"
     ]
    }
   ],
   "source": [
    "#We keep a copy of the dataframe to alter it for demonstration\n",
    "df_modified = df.copy()\n",
    "df_modified.loc[10:20, 'parch'] = np.nan\n",
    "df_modified.info()"
   ]
  },
  {
   "cell_type": "markdown",
   "id": "31b3a45d-48fe-4a8e-9b61-6687f312b8c5",
   "metadata": {
    "tags": []
   },
   "source": [
    "### Describe\n",
    "\n",
    "Using this function, you can see descriptive statistics."
   ]
  },
  {
   "cell_type": "code",
   "execution_count": 29,
   "id": "67fdd5f9-208d-475c-9618-0a6efd238014",
   "metadata": {},
   "outputs": [
    {
     "data": {
      "text/html": [
       "<div>\n",
       "<style scoped>\n",
       "    .dataframe tbody tr th:only-of-type {\n",
       "        vertical-align: middle;\n",
       "    }\n",
       "\n",
       "    .dataframe tbody tr th {\n",
       "        vertical-align: top;\n",
       "    }\n",
       "\n",
       "    .dataframe thead th {\n",
       "        text-align: right;\n",
       "    }\n",
       "</style>\n",
       "<table border=\"1\" class=\"dataframe\">\n",
       "  <thead>\n",
       "    <tr style=\"text-align: right;\">\n",
       "      <th></th>\n",
       "      <th>survived</th>\n",
       "      <th>age</th>\n",
       "      <th>n_siblings_spouses</th>\n",
       "      <th>parch</th>\n",
       "      <th>fare</th>\n",
       "    </tr>\n",
       "  </thead>\n",
       "  <tbody>\n",
       "    <tr>\n",
       "      <th>count</th>\n",
       "      <td>627.000000</td>\n",
       "      <td>627.000000</td>\n",
       "      <td>627.000000</td>\n",
       "      <td>627.000000</td>\n",
       "      <td>627.000000</td>\n",
       "    </tr>\n",
       "    <tr>\n",
       "      <th>mean</th>\n",
       "      <td>0.387560</td>\n",
       "      <td>29.631308</td>\n",
       "      <td>0.545455</td>\n",
       "      <td>0.379585</td>\n",
       "      <td>34.385399</td>\n",
       "    </tr>\n",
       "    <tr>\n",
       "      <th>std</th>\n",
       "      <td>0.487582</td>\n",
       "      <td>12.511818</td>\n",
       "      <td>1.151090</td>\n",
       "      <td>0.792999</td>\n",
       "      <td>54.597730</td>\n",
       "    </tr>\n",
       "    <tr>\n",
       "      <th>min</th>\n",
       "      <td>0.000000</td>\n",
       "      <td>0.750000</td>\n",
       "      <td>0.000000</td>\n",
       "      <td>0.000000</td>\n",
       "      <td>0.000000</td>\n",
       "    </tr>\n",
       "    <tr>\n",
       "      <th>25%</th>\n",
       "      <td>0.000000</td>\n",
       "      <td>23.000000</td>\n",
       "      <td>0.000000</td>\n",
       "      <td>0.000000</td>\n",
       "      <td>7.895800</td>\n",
       "    </tr>\n",
       "    <tr>\n",
       "      <th>50%</th>\n",
       "      <td>0.000000</td>\n",
       "      <td>28.000000</td>\n",
       "      <td>0.000000</td>\n",
       "      <td>0.000000</td>\n",
       "      <td>15.045800</td>\n",
       "    </tr>\n",
       "    <tr>\n",
       "      <th>75%</th>\n",
       "      <td>1.000000</td>\n",
       "      <td>35.000000</td>\n",
       "      <td>1.000000</td>\n",
       "      <td>0.000000</td>\n",
       "      <td>31.387500</td>\n",
       "    </tr>\n",
       "    <tr>\n",
       "      <th>max</th>\n",
       "      <td>1.000000</td>\n",
       "      <td>80.000000</td>\n",
       "      <td>8.000000</td>\n",
       "      <td>5.000000</td>\n",
       "      <td>512.329200</td>\n",
       "    </tr>\n",
       "  </tbody>\n",
       "</table>\n",
       "</div>"
      ],
      "text/plain": [
       "         survived         age  n_siblings_spouses       parch        fare\n",
       "count  627.000000  627.000000          627.000000  627.000000  627.000000\n",
       "mean     0.387560   29.631308            0.545455    0.379585   34.385399\n",
       "std      0.487582   12.511818            1.151090    0.792999   54.597730\n",
       "min      0.000000    0.750000            0.000000    0.000000    0.000000\n",
       "25%      0.000000   23.000000            0.000000    0.000000    7.895800\n",
       "50%      0.000000   28.000000            0.000000    0.000000   15.045800\n",
       "75%      1.000000   35.000000            1.000000    0.000000   31.387500\n",
       "max      1.000000   80.000000            8.000000    5.000000  512.329200"
      ]
     },
     "execution_count": 29,
     "metadata": {},
     "output_type": "execute_result"
    }
   ],
   "source": [
    "#Describe the data - Descriptive statistics.\n",
    "\n",
    "df.describe()"
   ]
  },
  {
   "cell_type": "markdown",
   "id": "27f78bf1-f7ed-41ef-9db3-f65486bb93a0",
   "metadata": {},
   "source": [
    "If this data has all been manually entered, errors are possible. For the first entry of the dataframe, let's imagine the age '22' has been manually entered as '22222'. What are the descriptive statistics showing?"
   ]
  },
  {
   "cell_type": "code",
   "execution_count": 39,
   "id": "0ce668b5-6762-42d3-ac9c-91341f1d3680",
   "metadata": {},
   "outputs": [
    {
     "data": {
      "text/html": [
       "<div>\n",
       "<style scoped>\n",
       "    .dataframe tbody tr th:only-of-type {\n",
       "        vertical-align: middle;\n",
       "    }\n",
       "\n",
       "    .dataframe tbody tr th {\n",
       "        vertical-align: top;\n",
       "    }\n",
       "\n",
       "    .dataframe thead th {\n",
       "        text-align: right;\n",
       "    }\n",
       "</style>\n",
       "<table border=\"1\" class=\"dataframe\">\n",
       "  <thead>\n",
       "    <tr style=\"text-align: right;\">\n",
       "      <th></th>\n",
       "      <th>survived</th>\n",
       "      <th>age</th>\n",
       "      <th>n_siblings_spouses</th>\n",
       "      <th>parch</th>\n",
       "      <th>fare</th>\n",
       "    </tr>\n",
       "  </thead>\n",
       "  <tbody>\n",
       "    <tr>\n",
       "      <th>count</th>\n",
       "      <td>627.000000</td>\n",
       "      <td>627.000000</td>\n",
       "      <td>627.000000</td>\n",
       "      <td>627.000000</td>\n",
       "      <td>627.000000</td>\n",
       "    </tr>\n",
       "    <tr>\n",
       "      <th>mean</th>\n",
       "      <td>0.387560</td>\n",
       "      <td>65.038006</td>\n",
       "      <td>0.545455</td>\n",
       "      <td>0.379585</td>\n",
       "      <td>34.385399</td>\n",
       "    </tr>\n",
       "    <tr>\n",
       "      <th>std</th>\n",
       "      <td>0.487582</td>\n",
       "      <td>886.365608</td>\n",
       "      <td>1.151090</td>\n",
       "      <td>0.792999</td>\n",
       "      <td>54.597730</td>\n",
       "    </tr>\n",
       "    <tr>\n",
       "      <th>min</th>\n",
       "      <td>0.000000</td>\n",
       "      <td>0.750000</td>\n",
       "      <td>0.000000</td>\n",
       "      <td>0.000000</td>\n",
       "      <td>0.000000</td>\n",
       "    </tr>\n",
       "    <tr>\n",
       "      <th>25%</th>\n",
       "      <td>0.000000</td>\n",
       "      <td>23.000000</td>\n",
       "      <td>0.000000</td>\n",
       "      <td>0.000000</td>\n",
       "      <td>7.895800</td>\n",
       "    </tr>\n",
       "    <tr>\n",
       "      <th>50%</th>\n",
       "      <td>0.000000</td>\n",
       "      <td>28.000000</td>\n",
       "      <td>0.000000</td>\n",
       "      <td>0.000000</td>\n",
       "      <td>15.045800</td>\n",
       "    </tr>\n",
       "    <tr>\n",
       "      <th>75%</th>\n",
       "      <td>1.000000</td>\n",
       "      <td>35.000000</td>\n",
       "      <td>1.000000</td>\n",
       "      <td>0.000000</td>\n",
       "      <td>31.387500</td>\n",
       "    </tr>\n",
       "    <tr>\n",
       "      <th>max</th>\n",
       "      <td>1.000000</td>\n",
       "      <td>22222.000000</td>\n",
       "      <td>8.000000</td>\n",
       "      <td>5.000000</td>\n",
       "      <td>512.329200</td>\n",
       "    </tr>\n",
       "  </tbody>\n",
       "</table>\n",
       "</div>"
      ],
      "text/plain": [
       "         survived           age  n_siblings_spouses       parch        fare\n",
       "count  627.000000    627.000000          627.000000  627.000000  627.000000\n",
       "mean     0.387560     65.038006            0.545455    0.379585   34.385399\n",
       "std      0.487582    886.365608            1.151090    0.792999   54.597730\n",
       "min      0.000000      0.750000            0.000000    0.000000    0.000000\n",
       "25%      0.000000     23.000000            0.000000    0.000000    7.895800\n",
       "50%      0.000000     28.000000            0.000000    0.000000   15.045800\n",
       "75%      1.000000     35.000000            1.000000    0.000000   31.387500\n",
       "max      1.000000  22222.000000            8.000000    5.000000  512.329200"
      ]
     },
     "execution_count": 39,
     "metadata": {},
     "output_type": "execute_result"
    }
   ],
   "source": [
    "#We keep a copy of the dataframe to alter it for demonstration\n",
    "df_modified = df.copy()\n",
    "df_modified.loc[0, 'age'] = 22222\n",
    "df_modified.describe()"
   ]
  },
  {
   "cell_type": "markdown",
   "id": "649ff98c-d7e6-4788-b8a5-25b9ddf5d49c",
   "metadata": {},
   "source": [
    "As we can see, an important outlier can drastically change the mean and the standard deviation of the variable. The mean of the age went from 29.6 to 65. However, the quartiles are unchanged. Quartiles are more robust to such problems with the data.\n",
    "\n",
    "| Sensitive to outliers    | Robust to outliers |\n",
    "| -------- | ------- |\n",
    "|  -  | Count (number of entries)    |\n",
    "| Mean |  Median (quantile 50%)     |\n",
    "| Minimum    |  Low quantile (5%)  |\n",
    "| Maximum    |  High quantile (95%)   |\n",
    "| Range  |  Range from quantiles   |\n",
    "| -  |  Mode   |"
   ]
  },
  {
   "cell_type": "markdown",
   "id": "7d2df836-12a7-4329-a8cf-3d4ea8b4c75e",
   "metadata": {
    "tags": []
   },
   "source": [
    "### Duplicate records?\n",
    "\n",
    "You can use the df.duplicate.sum() function to the sum of duplicate value present if any. It will show the number of duplicate values if they are present in the data.\n"
   ]
  },
  {
   "cell_type": "code",
   "execution_count": 40,
   "id": "8408e3d0-68bc-418e-8bdd-420004ab3218",
   "metadata": {},
   "outputs": [
    {
     "data": {
      "text/plain": [
       "69"
      ]
     },
     "execution_count": 40,
     "metadata": {},
     "output_type": "execute_result"
    }
   ],
   "source": [
    "#Find the duplicates\n",
    "\n",
    "df.duplicated().sum()"
   ]
  },
  {
   "cell_type": "markdown",
   "id": "91739850-16ea-41be-b74e-af338acb1b88",
   "metadata": {},
   "source": [
    "This tells us that 69 rows have twin rows. We can look at these rows here. In this problem, duplicated rows is not an issue as it is not indicative of data entry issues. If the names and/or addresses of the passengers were part of the data, duplicated rows would be indicative of data collection problems. Let's look at the duplicated rows."
   ]
  },
  {
   "cell_type": "code",
   "execution_count": 42,
   "id": "dcd69d01-38e2-4f2f-9a39-62c257780a8d",
   "metadata": {},
   "outputs": [
    {
     "data": {
      "text/html": [
       "<div>\n",
       "<style scoped>\n",
       "    .dataframe tbody tr th:only-of-type {\n",
       "        vertical-align: middle;\n",
       "    }\n",
       "\n",
       "    .dataframe tbody tr th {\n",
       "        vertical-align: top;\n",
       "    }\n",
       "\n",
       "    .dataframe thead th {\n",
       "        text-align: right;\n",
       "    }\n",
       "</style>\n",
       "<table border=\"1\" class=\"dataframe\">\n",
       "  <thead>\n",
       "    <tr style=\"text-align: right;\">\n",
       "      <th></th>\n",
       "      <th>survived</th>\n",
       "      <th>sex</th>\n",
       "      <th>age</th>\n",
       "      <th>n_siblings_spouses</th>\n",
       "      <th>parch</th>\n",
       "      <th>fare</th>\n",
       "      <th>class</th>\n",
       "      <th>deck</th>\n",
       "      <th>embark_town</th>\n",
       "      <th>alone</th>\n",
       "    </tr>\n",
       "  </thead>\n",
       "  <tbody>\n",
       "    <tr>\n",
       "      <th>59</th>\n",
       "      <td>0</td>\n",
       "      <td>male</td>\n",
       "      <td>28.0</td>\n",
       "      <td>0</td>\n",
       "      <td>0</td>\n",
       "      <td>7.8958</td>\n",
       "      <td>Third</td>\n",
       "      <td>unknown</td>\n",
       "      <td>Southampton</td>\n",
       "      <td>y</td>\n",
       "    </tr>\n",
       "    <tr>\n",
       "      <th>60</th>\n",
       "      <td>0</td>\n",
       "      <td>male</td>\n",
       "      <td>28.0</td>\n",
       "      <td>0</td>\n",
       "      <td>0</td>\n",
       "      <td>8.0500</td>\n",
       "      <td>Third</td>\n",
       "      <td>unknown</td>\n",
       "      <td>Southampton</td>\n",
       "      <td>y</td>\n",
       "    </tr>\n",
       "    <tr>\n",
       "      <th>68</th>\n",
       "      <td>0</td>\n",
       "      <td>male</td>\n",
       "      <td>28.0</td>\n",
       "      <td>0</td>\n",
       "      <td>0</td>\n",
       "      <td>8.0500</td>\n",
       "      <td>Third</td>\n",
       "      <td>unknown</td>\n",
       "      <td>Southampton</td>\n",
       "      <td>y</td>\n",
       "    </tr>\n",
       "    <tr>\n",
       "      <th>73</th>\n",
       "      <td>0</td>\n",
       "      <td>male</td>\n",
       "      <td>28.0</td>\n",
       "      <td>0</td>\n",
       "      <td>0</td>\n",
       "      <td>8.0500</td>\n",
       "      <td>Third</td>\n",
       "      <td>unknown</td>\n",
       "      <td>Southampton</td>\n",
       "      <td>y</td>\n",
       "    </tr>\n",
       "    <tr>\n",
       "      <th>79</th>\n",
       "      <td>0</td>\n",
       "      <td>male</td>\n",
       "      <td>28.0</td>\n",
       "      <td>0</td>\n",
       "      <td>0</td>\n",
       "      <td>7.8958</td>\n",
       "      <td>Third</td>\n",
       "      <td>unknown</td>\n",
       "      <td>Southampton</td>\n",
       "      <td>y</td>\n",
       "    </tr>\n",
       "    <tr>\n",
       "      <th>...</th>\n",
       "      <td>...</td>\n",
       "      <td>...</td>\n",
       "      <td>...</td>\n",
       "      <td>...</td>\n",
       "      <td>...</td>\n",
       "      <td>...</td>\n",
       "      <td>...</td>\n",
       "      <td>...</td>\n",
       "      <td>...</td>\n",
       "      <td>...</td>\n",
       "    </tr>\n",
       "    <tr>\n",
       "      <th>596</th>\n",
       "      <td>0</td>\n",
       "      <td>male</td>\n",
       "      <td>28.0</td>\n",
       "      <td>8</td>\n",
       "      <td>2</td>\n",
       "      <td>69.5500</td>\n",
       "      <td>Third</td>\n",
       "      <td>unknown</td>\n",
       "      <td>Southampton</td>\n",
       "      <td>n</td>\n",
       "    </tr>\n",
       "    <tr>\n",
       "      <th>612</th>\n",
       "      <td>0</td>\n",
       "      <td>male</td>\n",
       "      <td>26.0</td>\n",
       "      <td>0</td>\n",
       "      <td>0</td>\n",
       "      <td>7.8958</td>\n",
       "      <td>Third</td>\n",
       "      <td>unknown</td>\n",
       "      <td>Southampton</td>\n",
       "      <td>y</td>\n",
       "    </tr>\n",
       "    <tr>\n",
       "      <th>619</th>\n",
       "      <td>0</td>\n",
       "      <td>male</td>\n",
       "      <td>19.0</td>\n",
       "      <td>0</td>\n",
       "      <td>0</td>\n",
       "      <td>7.8958</td>\n",
       "      <td>Third</td>\n",
       "      <td>unknown</td>\n",
       "      <td>Southampton</td>\n",
       "      <td>y</td>\n",
       "    </tr>\n",
       "    <tr>\n",
       "      <th>620</th>\n",
       "      <td>0</td>\n",
       "      <td>male</td>\n",
       "      <td>28.0</td>\n",
       "      <td>0</td>\n",
       "      <td>0</td>\n",
       "      <td>7.8958</td>\n",
       "      <td>Third</td>\n",
       "      <td>unknown</td>\n",
       "      <td>Southampton</td>\n",
       "      <td>y</td>\n",
       "    </tr>\n",
       "    <tr>\n",
       "      <th>623</th>\n",
       "      <td>0</td>\n",
       "      <td>male</td>\n",
       "      <td>25.0</td>\n",
       "      <td>0</td>\n",
       "      <td>0</td>\n",
       "      <td>7.0500</td>\n",
       "      <td>Third</td>\n",
       "      <td>unknown</td>\n",
       "      <td>Southampton</td>\n",
       "      <td>y</td>\n",
       "    </tr>\n",
       "  </tbody>\n",
       "</table>\n",
       "<p>69 rows × 10 columns</p>\n",
       "</div>"
      ],
      "text/plain": [
       "     survived   sex   age  n_siblings_spouses  parch     fare  class     deck  \\\n",
       "59          0  male  28.0                   0      0   7.8958  Third  unknown   \n",
       "60          0  male  28.0                   0      0   8.0500  Third  unknown   \n",
       "68          0  male  28.0                   0      0   8.0500  Third  unknown   \n",
       "73          0  male  28.0                   0      0   8.0500  Third  unknown   \n",
       "79          0  male  28.0                   0      0   7.8958  Third  unknown   \n",
       "..        ...   ...   ...                 ...    ...      ...    ...      ...   \n",
       "596         0  male  28.0                   8      2  69.5500  Third  unknown   \n",
       "612         0  male  26.0                   0      0   7.8958  Third  unknown   \n",
       "619         0  male  19.0                   0      0   7.8958  Third  unknown   \n",
       "620         0  male  28.0                   0      0   7.8958  Third  unknown   \n",
       "623         0  male  25.0                   0      0   7.0500  Third  unknown   \n",
       "\n",
       "     embark_town alone  \n",
       "59   Southampton     y  \n",
       "60   Southampton     y  \n",
       "68   Southampton     y  \n",
       "73   Southampton     y  \n",
       "79   Southampton     y  \n",
       "..           ...   ...  \n",
       "596  Southampton     n  \n",
       "612  Southampton     y  \n",
       "619  Southampton     y  \n",
       "620  Southampton     y  \n",
       "623  Southampton     y  \n",
       "\n",
       "[69 rows x 10 columns]"
      ]
     },
     "execution_count": 42,
     "metadata": {},
     "output_type": "execute_result"
    }
   ],
   "source": [
    "df[df.duplicated()]"
   ]
  },
  {
   "cell_type": "markdown",
   "id": "37f9050e-4025-4136-8d57-c83a2aff12cb",
   "metadata": {},
   "source": [
    "So how many unique rows do we have? Which rows a duplication of each other? In order to view this, we can group identical rows together by grouping over all columns - *list(df.colunms)* - and counting the resulting rows."
   ]
  },
  {
   "cell_type": "code",
   "execution_count": 60,
   "id": "4d72f6f9-40b7-45bc-b7c8-b7cd9603c9cf",
   "metadata": {},
   "outputs": [],
   "source": [
    "df_row_counts = df.groupby(list(df.columns)).size().reset_index(name='RowCount')"
   ]
  },
  {
   "cell_type": "code",
   "execution_count": 61,
   "id": "1889f57f-bc12-4525-82ac-4de8b32119cc",
   "metadata": {},
   "outputs": [
    {
     "data": {
      "text/html": [
       "<div>\n",
       "<style scoped>\n",
       "    .dataframe tbody tr th:only-of-type {\n",
       "        vertical-align: middle;\n",
       "    }\n",
       "\n",
       "    .dataframe tbody tr th {\n",
       "        vertical-align: top;\n",
       "    }\n",
       "\n",
       "    .dataframe thead th {\n",
       "        text-align: right;\n",
       "    }\n",
       "</style>\n",
       "<table border=\"1\" class=\"dataframe\">\n",
       "  <thead>\n",
       "    <tr style=\"text-align: right;\">\n",
       "      <th></th>\n",
       "      <th>survived</th>\n",
       "      <th>sex</th>\n",
       "      <th>age</th>\n",
       "      <th>n_siblings_spouses</th>\n",
       "      <th>parch</th>\n",
       "      <th>fare</th>\n",
       "      <th>class</th>\n",
       "      <th>deck</th>\n",
       "      <th>embark_town</th>\n",
       "      <th>alone</th>\n",
       "      <th>RowCount</th>\n",
       "    </tr>\n",
       "  </thead>\n",
       "  <tbody>\n",
       "    <tr>\n",
       "      <th>25</th>\n",
       "      <td>0</td>\n",
       "      <td>female</td>\n",
       "      <td>28.00</td>\n",
       "      <td>3</td>\n",
       "      <td>1</td>\n",
       "      <td>25.4667</td>\n",
       "      <td>Third</td>\n",
       "      <td>unknown</td>\n",
       "      <td>Southampton</td>\n",
       "      <td>n</td>\n",
       "      <td>3</td>\n",
       "    </tr>\n",
       "    <tr>\n",
       "      <th>26</th>\n",
       "      <td>0</td>\n",
       "      <td>female</td>\n",
       "      <td>28.00</td>\n",
       "      <td>8</td>\n",
       "      <td>2</td>\n",
       "      <td>69.5500</td>\n",
       "      <td>Third</td>\n",
       "      <td>unknown</td>\n",
       "      <td>Southampton</td>\n",
       "      <td>n</td>\n",
       "      <td>2</td>\n",
       "    </tr>\n",
       "    <tr>\n",
       "      <th>70</th>\n",
       "      <td>0</td>\n",
       "      <td>male</td>\n",
       "      <td>17.00</td>\n",
       "      <td>0</td>\n",
       "      <td>0</td>\n",
       "      <td>8.6625</td>\n",
       "      <td>Third</td>\n",
       "      <td>unknown</td>\n",
       "      <td>Southampton</td>\n",
       "      <td>y</td>\n",
       "      <td>2</td>\n",
       "    </tr>\n",
       "    <tr>\n",
       "      <th>87</th>\n",
       "      <td>0</td>\n",
       "      <td>male</td>\n",
       "      <td>19.00</td>\n",
       "      <td>0</td>\n",
       "      <td>0</td>\n",
       "      <td>7.8958</td>\n",
       "      <td>Third</td>\n",
       "      <td>unknown</td>\n",
       "      <td>Southampton</td>\n",
       "      <td>y</td>\n",
       "      <td>2</td>\n",
       "    </tr>\n",
       "    <tr>\n",
       "      <th>110</th>\n",
       "      <td>0</td>\n",
       "      <td>male</td>\n",
       "      <td>22.00</td>\n",
       "      <td>0</td>\n",
       "      <td>0</td>\n",
       "      <td>7.2500</td>\n",
       "      <td>Third</td>\n",
       "      <td>unknown</td>\n",
       "      <td>Southampton</td>\n",
       "      <td>y</td>\n",
       "      <td>2</td>\n",
       "    </tr>\n",
       "    <tr>\n",
       "      <th>120</th>\n",
       "      <td>0</td>\n",
       "      <td>male</td>\n",
       "      <td>23.00</td>\n",
       "      <td>0</td>\n",
       "      <td>0</td>\n",
       "      <td>13.0000</td>\n",
       "      <td>Second</td>\n",
       "      <td>unknown</td>\n",
       "      <td>Southampton</td>\n",
       "      <td>y</td>\n",
       "      <td>2</td>\n",
       "    </tr>\n",
       "    <tr>\n",
       "      <th>132</th>\n",
       "      <td>0</td>\n",
       "      <td>male</td>\n",
       "      <td>25.00</td>\n",
       "      <td>0</td>\n",
       "      <td>0</td>\n",
       "      <td>7.0500</td>\n",
       "      <td>Third</td>\n",
       "      <td>unknown</td>\n",
       "      <td>Southampton</td>\n",
       "      <td>y</td>\n",
       "      <td>2</td>\n",
       "    </tr>\n",
       "    <tr>\n",
       "      <th>136</th>\n",
       "      <td>0</td>\n",
       "      <td>male</td>\n",
       "      <td>25.00</td>\n",
       "      <td>0</td>\n",
       "      <td>0</td>\n",
       "      <td>13.0000</td>\n",
       "      <td>Second</td>\n",
       "      <td>unknown</td>\n",
       "      <td>Southampton</td>\n",
       "      <td>y</td>\n",
       "      <td>2</td>\n",
       "    </tr>\n",
       "    <tr>\n",
       "      <th>141</th>\n",
       "      <td>0</td>\n",
       "      <td>male</td>\n",
       "      <td>26.00</td>\n",
       "      <td>0</td>\n",
       "      <td>0</td>\n",
       "      <td>7.8958</td>\n",
       "      <td>Third</td>\n",
       "      <td>unknown</td>\n",
       "      <td>Southampton</td>\n",
       "      <td>y</td>\n",
       "      <td>2</td>\n",
       "    </tr>\n",
       "    <tr>\n",
       "      <th>149</th>\n",
       "      <td>0</td>\n",
       "      <td>male</td>\n",
       "      <td>28.00</td>\n",
       "      <td>0</td>\n",
       "      <td>0</td>\n",
       "      <td>0.0000</td>\n",
       "      <td>Second</td>\n",
       "      <td>unknown</td>\n",
       "      <td>Southampton</td>\n",
       "      <td>y</td>\n",
       "      <td>5</td>\n",
       "    </tr>\n",
       "    <tr>\n",
       "      <th>153</th>\n",
       "      <td>0</td>\n",
       "      <td>male</td>\n",
       "      <td>28.00</td>\n",
       "      <td>0</td>\n",
       "      <td>0</td>\n",
       "      <td>7.2250</td>\n",
       "      <td>Third</td>\n",
       "      <td>unknown</td>\n",
       "      <td>Cherbourg</td>\n",
       "      <td>y</td>\n",
       "      <td>3</td>\n",
       "    </tr>\n",
       "    <tr>\n",
       "      <th>154</th>\n",
       "      <td>0</td>\n",
       "      <td>male</td>\n",
       "      <td>28.00</td>\n",
       "      <td>0</td>\n",
       "      <td>0</td>\n",
       "      <td>7.2292</td>\n",
       "      <td>Third</td>\n",
       "      <td>unknown</td>\n",
       "      <td>Cherbourg</td>\n",
       "      <td>y</td>\n",
       "      <td>2</td>\n",
       "    </tr>\n",
       "    <tr>\n",
       "      <th>155</th>\n",
       "      <td>0</td>\n",
       "      <td>male</td>\n",
       "      <td>28.00</td>\n",
       "      <td>0</td>\n",
       "      <td>0</td>\n",
       "      <td>7.2500</td>\n",
       "      <td>Third</td>\n",
       "      <td>unknown</td>\n",
       "      <td>Southampton</td>\n",
       "      <td>y</td>\n",
       "      <td>2</td>\n",
       "    </tr>\n",
       "    <tr>\n",
       "      <th>162</th>\n",
       "      <td>0</td>\n",
       "      <td>male</td>\n",
       "      <td>28.00</td>\n",
       "      <td>0</td>\n",
       "      <td>0</td>\n",
       "      <td>7.7500</td>\n",
       "      <td>Third</td>\n",
       "      <td>unknown</td>\n",
       "      <td>Queenstown</td>\n",
       "      <td>y</td>\n",
       "      <td>6</td>\n",
       "    </tr>\n",
       "    <tr>\n",
       "      <th>167</th>\n",
       "      <td>0</td>\n",
       "      <td>male</td>\n",
       "      <td>28.00</td>\n",
       "      <td>0</td>\n",
       "      <td>0</td>\n",
       "      <td>7.8958</td>\n",
       "      <td>Third</td>\n",
       "      <td>unknown</td>\n",
       "      <td>Cherbourg</td>\n",
       "      <td>y</td>\n",
       "      <td>2</td>\n",
       "    </tr>\n",
       "    <tr>\n",
       "      <th>168</th>\n",
       "      <td>0</td>\n",
       "      <td>male</td>\n",
       "      <td>28.00</td>\n",
       "      <td>0</td>\n",
       "      <td>0</td>\n",
       "      <td>7.8958</td>\n",
       "      <td>Third</td>\n",
       "      <td>unknown</td>\n",
       "      <td>Southampton</td>\n",
       "      <td>y</td>\n",
       "      <td>13</td>\n",
       "    </tr>\n",
       "    <tr>\n",
       "      <th>169</th>\n",
       "      <td>0</td>\n",
       "      <td>male</td>\n",
       "      <td>28.00</td>\n",
       "      <td>0</td>\n",
       "      <td>0</td>\n",
       "      <td>8.0500</td>\n",
       "      <td>Third</td>\n",
       "      <td>unknown</td>\n",
       "      <td>Southampton</td>\n",
       "      <td>y</td>\n",
       "      <td>10</td>\n",
       "    </tr>\n",
       "    <tr>\n",
       "      <th>172</th>\n",
       "      <td>0</td>\n",
       "      <td>male</td>\n",
       "      <td>28.00</td>\n",
       "      <td>0</td>\n",
       "      <td>0</td>\n",
       "      <td>9.5000</td>\n",
       "      <td>Third</td>\n",
       "      <td>unknown</td>\n",
       "      <td>Southampton</td>\n",
       "      <td>y</td>\n",
       "      <td>2</td>\n",
       "    </tr>\n",
       "    <tr>\n",
       "      <th>185</th>\n",
       "      <td>0</td>\n",
       "      <td>male</td>\n",
       "      <td>28.00</td>\n",
       "      <td>0</td>\n",
       "      <td>0</td>\n",
       "      <td>56.4958</td>\n",
       "      <td>Third</td>\n",
       "      <td>unknown</td>\n",
       "      <td>Southampton</td>\n",
       "      <td>y</td>\n",
       "      <td>2</td>\n",
       "    </tr>\n",
       "    <tr>\n",
       "      <th>190</th>\n",
       "      <td>0</td>\n",
       "      <td>male</td>\n",
       "      <td>28.00</td>\n",
       "      <td>1</td>\n",
       "      <td>0</td>\n",
       "      <td>15.5000</td>\n",
       "      <td>Third</td>\n",
       "      <td>unknown</td>\n",
       "      <td>Queenstown</td>\n",
       "      <td>n</td>\n",
       "      <td>2</td>\n",
       "    </tr>\n",
       "    <tr>\n",
       "      <th>199</th>\n",
       "      <td>0</td>\n",
       "      <td>male</td>\n",
       "      <td>28.00</td>\n",
       "      <td>8</td>\n",
       "      <td>2</td>\n",
       "      <td>69.5500</td>\n",
       "      <td>Third</td>\n",
       "      <td>unknown</td>\n",
       "      <td>Southampton</td>\n",
       "      <td>n</td>\n",
       "      <td>4</td>\n",
       "    </tr>\n",
       "    <tr>\n",
       "      <th>212</th>\n",
       "      <td>0</td>\n",
       "      <td>male</td>\n",
       "      <td>30.00</td>\n",
       "      <td>0</td>\n",
       "      <td>0</td>\n",
       "      <td>13.0000</td>\n",
       "      <td>Second</td>\n",
       "      <td>unknown</td>\n",
       "      <td>Southampton</td>\n",
       "      <td>y</td>\n",
       "      <td>2</td>\n",
       "    </tr>\n",
       "    <tr>\n",
       "      <th>224</th>\n",
       "      <td>0</td>\n",
       "      <td>male</td>\n",
       "      <td>32.00</td>\n",
       "      <td>0</td>\n",
       "      <td>0</td>\n",
       "      <td>7.9250</td>\n",
       "      <td>Third</td>\n",
       "      <td>unknown</td>\n",
       "      <td>Southampton</td>\n",
       "      <td>y</td>\n",
       "      <td>2</td>\n",
       "    </tr>\n",
       "    <tr>\n",
       "      <th>236</th>\n",
       "      <td>0</td>\n",
       "      <td>male</td>\n",
       "      <td>34.00</td>\n",
       "      <td>0</td>\n",
       "      <td>0</td>\n",
       "      <td>8.0500</td>\n",
       "      <td>Third</td>\n",
       "      <td>unknown</td>\n",
       "      <td>Southampton</td>\n",
       "      <td>y</td>\n",
       "      <td>2</td>\n",
       "    </tr>\n",
       "    <tr>\n",
       "      <th>238</th>\n",
       "      <td>0</td>\n",
       "      <td>male</td>\n",
       "      <td>34.00</td>\n",
       "      <td>1</td>\n",
       "      <td>0</td>\n",
       "      <td>21.0000</td>\n",
       "      <td>Second</td>\n",
       "      <td>unknown</td>\n",
       "      <td>Southampton</td>\n",
       "      <td>n</td>\n",
       "      <td>2</td>\n",
       "    </tr>\n",
       "    <tr>\n",
       "      <th>266</th>\n",
       "      <td>0</td>\n",
       "      <td>male</td>\n",
       "      <td>39.00</td>\n",
       "      <td>0</td>\n",
       "      <td>0</td>\n",
       "      <td>13.0000</td>\n",
       "      <td>Second</td>\n",
       "      <td>unknown</td>\n",
       "      <td>Southampton</td>\n",
       "      <td>y</td>\n",
       "      <td>2</td>\n",
       "    </tr>\n",
       "    <tr>\n",
       "      <th>328</th>\n",
       "      <td>1</td>\n",
       "      <td>female</td>\n",
       "      <td>0.75</td>\n",
       "      <td>2</td>\n",
       "      <td>1</td>\n",
       "      <td>19.2583</td>\n",
       "      <td>Third</td>\n",
       "      <td>unknown</td>\n",
       "      <td>Cherbourg</td>\n",
       "      <td>n</td>\n",
       "      <td>2</td>\n",
       "    </tr>\n",
       "    <tr>\n",
       "      <th>397</th>\n",
       "      <td>1</td>\n",
       "      <td>female</td>\n",
       "      <td>28.00</td>\n",
       "      <td>0</td>\n",
       "      <td>0</td>\n",
       "      <td>7.7500</td>\n",
       "      <td>Third</td>\n",
       "      <td>unknown</td>\n",
       "      <td>Queenstown</td>\n",
       "      <td>y</td>\n",
       "      <td>5</td>\n",
       "    </tr>\n",
       "    <tr>\n",
       "      <th>399</th>\n",
       "      <td>1</td>\n",
       "      <td>female</td>\n",
       "      <td>28.00</td>\n",
       "      <td>0</td>\n",
       "      <td>0</td>\n",
       "      <td>7.8792</td>\n",
       "      <td>Third</td>\n",
       "      <td>unknown</td>\n",
       "      <td>Queenstown</td>\n",
       "      <td>y</td>\n",
       "      <td>3</td>\n",
       "    </tr>\n",
       "    <tr>\n",
       "      <th>401</th>\n",
       "      <td>1</td>\n",
       "      <td>female</td>\n",
       "      <td>28.00</td>\n",
       "      <td>0</td>\n",
       "      <td>0</td>\n",
       "      <td>13.0000</td>\n",
       "      <td>Second</td>\n",
       "      <td>unknown</td>\n",
       "      <td>Southampton</td>\n",
       "      <td>y</td>\n",
       "      <td>2</td>\n",
       "    </tr>\n",
       "    <tr>\n",
       "      <th>407</th>\n",
       "      <td>1</td>\n",
       "      <td>female</td>\n",
       "      <td>28.00</td>\n",
       "      <td>1</td>\n",
       "      <td>0</td>\n",
       "      <td>15.5000</td>\n",
       "      <td>Third</td>\n",
       "      <td>unknown</td>\n",
       "      <td>Queenstown</td>\n",
       "      <td>n</td>\n",
       "      <td>3</td>\n",
       "    </tr>\n",
       "    <tr>\n",
       "      <th>408</th>\n",
       "      <td>1</td>\n",
       "      <td>female</td>\n",
       "      <td>28.00</td>\n",
       "      <td>1</td>\n",
       "      <td>0</td>\n",
       "      <td>16.1000</td>\n",
       "      <td>Third</td>\n",
       "      <td>unknown</td>\n",
       "      <td>Southampton</td>\n",
       "      <td>n</td>\n",
       "      <td>2</td>\n",
       "    </tr>\n",
       "    <tr>\n",
       "      <th>525</th>\n",
       "      <td>1</td>\n",
       "      <td>male</td>\n",
       "      <td>28.00</td>\n",
       "      <td>0</td>\n",
       "      <td>0</td>\n",
       "      <td>56.4958</td>\n",
       "      <td>Third</td>\n",
       "      <td>unknown</td>\n",
       "      <td>Southampton</td>\n",
       "      <td>y</td>\n",
       "      <td>2</td>\n",
       "    </tr>\n",
       "    <tr>\n",
       "      <th>526</th>\n",
       "      <td>1</td>\n",
       "      <td>male</td>\n",
       "      <td>28.00</td>\n",
       "      <td>1</td>\n",
       "      <td>1</td>\n",
       "      <td>15.2458</td>\n",
       "      <td>Third</td>\n",
       "      <td>unknown</td>\n",
       "      <td>Cherbourg</td>\n",
       "      <td>n</td>\n",
       "      <td>2</td>\n",
       "    </tr>\n",
       "  </tbody>\n",
       "</table>\n",
       "</div>"
      ],
      "text/plain": [
       "     survived     sex    age  n_siblings_spouses  parch     fare   class  \\\n",
       "25          0  female  28.00                   3      1  25.4667   Third   \n",
       "26          0  female  28.00                   8      2  69.5500   Third   \n",
       "70          0    male  17.00                   0      0   8.6625   Third   \n",
       "87          0    male  19.00                   0      0   7.8958   Third   \n",
       "110         0    male  22.00                   0      0   7.2500   Third   \n",
       "120         0    male  23.00                   0      0  13.0000  Second   \n",
       "132         0    male  25.00                   0      0   7.0500   Third   \n",
       "136         0    male  25.00                   0      0  13.0000  Second   \n",
       "141         0    male  26.00                   0      0   7.8958   Third   \n",
       "149         0    male  28.00                   0      0   0.0000  Second   \n",
       "153         0    male  28.00                   0      0   7.2250   Third   \n",
       "154         0    male  28.00                   0      0   7.2292   Third   \n",
       "155         0    male  28.00                   0      0   7.2500   Third   \n",
       "162         0    male  28.00                   0      0   7.7500   Third   \n",
       "167         0    male  28.00                   0      0   7.8958   Third   \n",
       "168         0    male  28.00                   0      0   7.8958   Third   \n",
       "169         0    male  28.00                   0      0   8.0500   Third   \n",
       "172         0    male  28.00                   0      0   9.5000   Third   \n",
       "185         0    male  28.00                   0      0  56.4958   Third   \n",
       "190         0    male  28.00                   1      0  15.5000   Third   \n",
       "199         0    male  28.00                   8      2  69.5500   Third   \n",
       "212         0    male  30.00                   0      0  13.0000  Second   \n",
       "224         0    male  32.00                   0      0   7.9250   Third   \n",
       "236         0    male  34.00                   0      0   8.0500   Third   \n",
       "238         0    male  34.00                   1      0  21.0000  Second   \n",
       "266         0    male  39.00                   0      0  13.0000  Second   \n",
       "328         1  female   0.75                   2      1  19.2583   Third   \n",
       "397         1  female  28.00                   0      0   7.7500   Third   \n",
       "399         1  female  28.00                   0      0   7.8792   Third   \n",
       "401         1  female  28.00                   0      0  13.0000  Second   \n",
       "407         1  female  28.00                   1      0  15.5000   Third   \n",
       "408         1  female  28.00                   1      0  16.1000   Third   \n",
       "525         1    male  28.00                   0      0  56.4958   Third   \n",
       "526         1    male  28.00                   1      1  15.2458   Third   \n",
       "\n",
       "        deck  embark_town alone  RowCount  \n",
       "25   unknown  Southampton     n         3  \n",
       "26   unknown  Southampton     n         2  \n",
       "70   unknown  Southampton     y         2  \n",
       "87   unknown  Southampton     y         2  \n",
       "110  unknown  Southampton     y         2  \n",
       "120  unknown  Southampton     y         2  \n",
       "132  unknown  Southampton     y         2  \n",
       "136  unknown  Southampton     y         2  \n",
       "141  unknown  Southampton     y         2  \n",
       "149  unknown  Southampton     y         5  \n",
       "153  unknown    Cherbourg     y         3  \n",
       "154  unknown    Cherbourg     y         2  \n",
       "155  unknown  Southampton     y         2  \n",
       "162  unknown   Queenstown     y         6  \n",
       "167  unknown    Cherbourg     y         2  \n",
       "168  unknown  Southampton     y        13  \n",
       "169  unknown  Southampton     y        10  \n",
       "172  unknown  Southampton     y         2  \n",
       "185  unknown  Southampton     y         2  \n",
       "190  unknown   Queenstown     n         2  \n",
       "199  unknown  Southampton     n         4  \n",
       "212  unknown  Southampton     y         2  \n",
       "224  unknown  Southampton     y         2  \n",
       "236  unknown  Southampton     y         2  \n",
       "238  unknown  Southampton     n         2  \n",
       "266  unknown  Southampton     y         2  \n",
       "328  unknown    Cherbourg     n         2  \n",
       "397  unknown   Queenstown     y         5  \n",
       "399  unknown   Queenstown     y         3  \n",
       "401  unknown  Southampton     y         2  \n",
       "407  unknown   Queenstown     n         3  \n",
       "408  unknown  Southampton     n         2  \n",
       "525  unknown  Southampton     y         2  \n",
       "526  unknown    Cherbourg     n         2  "
      ]
     },
     "execution_count": 61,
     "metadata": {},
     "output_type": "execute_result"
    }
   ],
   "source": [
    "df_row_counts[df_row_counts.RowCount>1]"
   ]
  },
  {
   "cell_type": "markdown",
   "id": "d8c0d52f-915a-4279-9151-c74f02a5d92a",
   "metadata": {
    "jp-MarkdownHeadingCollapsed": true,
    "tags": []
   },
   "source": [
    "### Unique values\n",
    "\n",
    "You can find the number of unique values in the particular column using unique() function in python."
   ]
  },
  {
   "cell_type": "code",
   "execution_count": 64,
   "id": "017c80ed-cf61-48f3-9d85-337f90273c4b",
   "metadata": {},
   "outputs": [
    {
     "data": {
      "text/plain": [
       "array(['Southampton', 'Cherbourg', 'Queenstown', 'unknown'], dtype=object)"
      ]
     },
     "execution_count": 64,
     "metadata": {},
     "output_type": "execute_result"
    }
   ],
   "source": [
    "#unique values\n",
    "\n",
    "df['embark_town'].unique()"
   ]
  },
  {
   "cell_type": "code",
   "execution_count": 66,
   "id": "1705a0db-d9fc-4944-a62e-d9a5d5c219e8",
   "metadata": {},
   "outputs": [
    {
     "data": {
      "text/plain": [
       "array([0, 1])"
      ]
     },
     "execution_count": 66,
     "metadata": {},
     "output_type": "execute_result"
    }
   ],
   "source": [
    "df['survived'].unique()"
   ]
  },
  {
   "cell_type": "code",
   "execution_count": 67,
   "id": "efffa70c-096c-4f65-9326-62f6d22cc732",
   "metadata": {},
   "outputs": [
    {
     "data": {
      "text/plain": [
       "array(['male', 'female'], dtype=object)"
      ]
     },
     "execution_count": 67,
     "metadata": {},
     "output_type": "execute_result"
    }
   ],
   "source": [
    "df['sex'].unique()"
   ]
  },
  {
   "cell_type": "markdown",
   "id": "a652d4b4-4a44-4c62-883f-acd8e159d18a",
   "metadata": {},
   "source": [
    "\n",
    "The unique() function has returned the unique values which are present in the data and it is pretty much cool!"
   ]
  },
  {
   "cell_type": "markdown",
   "id": "dfc7cd0c-6f9e-4b0b-9faa-01c608ca69eb",
   "metadata": {
    "jp-MarkdownHeadingCollapsed": true,
    "tags": []
   },
   "source": [
    "### Visualize the Unique counts - categorical\n",
    "\n",
    "Yes, you can visualize the unique values present in the data. For this, we will be using the seaborn library. You have to call the sns.countlot() function and specify the variable to plot the count plot.\n"
   ]
  },
  {
   "cell_type": "code",
   "execution_count": 76,
   "id": "195de608-b3e3-491a-8db3-4c2f989bba3e",
   "metadata": {},
   "outputs": [
    {
     "data": {
      "text/plain": [
       "<AxesSubplot:xlabel='sex', ylabel='count'>"
      ]
     },
     "execution_count": 76,
     "metadata": {},
     "output_type": "execute_result"
    },
    {
     "data": {
      "image/png": "[encoded data removed]",
      "text/plain": [
       "<Figure size 640x480 with 1 Axes>"
      ]
     },
     "metadata": {},
     "output_type": "display_data"
    }
   ],
   "source": [
    "#Plot the unique values\n",
    "\n",
    "sns.countplot(data=df, x='sex')"
   ]
  },
  {
   "cell_type": "code",
   "execution_count": 77,
   "id": "e124caef-31b9-4240-b7b8-3a6803952945",
   "metadata": {},
   "outputs": [
    {
     "data": {
      "text/plain": [
       "<AxesSubplot:xlabel='survived', ylabel='count'>"
      ]
     },
     "execution_count": 77,
     "metadata": {},
     "output_type": "execute_result"
    },
    {
     "data": {
      "image/png": "[encoded data removed]",
      "text/plain": [
       "<Figure size 640x480 with 1 Axes>"
      ]
     },
     "metadata": {},
     "output_type": "display_data"
    }
   ],
   "source": [
    "#Plot the unique values\n",
    "\n",
    "sns.countplot(data=df, x='survived')"
   ]
  },
  {
   "cell_type": "markdown",
   "id": "f094895a-1754-4241-b080-3dae8d0ddd98",
   "metadata": {},
   "source": [
    "That’s great! You are doing good. It is as simple as that. Though EDA has two approaches, a blend of graphical and non-graphical will give you the bigger picture altogether."
   ]
  },
  {
   "cell_type": "markdown",
   "id": "c35677ea-239b-4e11-a88b-fd1441b51ebc",
   "metadata": {
    "jp-MarkdownHeadingCollapsed": true,
    "tags": []
   },
   "source": [
    "### Find the Null values\n",
    "\n",
    "Finding the null values is the most important step in the EDA. As I told many a time, ensuring the quality of data is paramount. So, let’s see how we can find the null values.\n"
   ]
  },
  {
   "cell_type": "code",
   "execution_count": null,
   "id": "42badbe8-d976-425e-bc0a-241027cc565c",
   "metadata": {},
   "outputs": [
    {
     "data": {
      "text/plain": [
       "survived              0\n",
       "sex                   0\n",
       "age                   0\n",
       "n_siblings_spouses    0\n",
       "parch                 0\n",
       "fare                  0\n",
       "class                 0\n",
       "deck                  0\n",
       "embark_town           0\n",
       "alone                 0\n",
       "dtype: int64"
      ]
     },
     "execution_count": 78,
     "metadata": {},
     "output_type": "execute_result"
    }
   ],
   "source": [
    "df.isnull().sum()"
   ]
  },
  {
   "cell_type": "code",
   "execution_count": null,
   "id": "f4d8f35c-fb2e-447d-9034-f5815d438d3e",
   "metadata": {},
   "outputs": [
    {
     "data": {
      "text/plain": [
       "survived               0\n",
       "sex                    0\n",
       "age                    0\n",
       "n_siblings_spouses     0\n",
       "parch                 11\n",
       "fare                   0\n",
       "class                  0\n",
       "deck                   0\n",
       "embark_town            0\n",
       "alone                  0\n",
       "dtype: int64"
      ]
     },
     "execution_count": 80,
     "metadata": {},
     "output_type": "execute_result"
    }
   ],
   "source": [
    "#We keep a copy of the dataframe to alter it for demonstration\n",
    "df_modified = df.copy()\n",
    "df_modified.loc[10:20, 'parch'] = np.nan\n",
    "df_modified.isnull().sum()"
   ]
  },
  {
   "cell_type": "markdown",
   "id": "3deb2e31-0ebd-46b7-85d0-e6043c53c8d8",
   "metadata": {},
   "source": [
    "Oh no, we have some null values in the ‘Age’ and ‘Cabin’ variables. But, don’t worry. We will find a way to deal with them soon."
   ]
  },
  {
   "cell_type": "markdown",
   "id": "c4a1ccf1-8e38-4b39-870f-64959588c832",
   "metadata": {
    "tags": []
   },
   "source": [
    "### Replace the Null values\n",
    "\n",
    "Hey, we got a replace() function to replace all the null values with a specific data. It is too good!"
   ]
  },
  {
   "cell_type": "code",
   "execution_count": null,
   "id": "57c06578-2fb3-4844-a1de-0f3dd618a928",
   "metadata": {},
   "outputs": [
    {
     "data": {
      "text/plain": [
       "survived              0\n",
       "sex                   0\n",
       "age                   0\n",
       "n_siblings_spouses    0\n",
       "parch                 0\n",
       "fare                  0\n",
       "class                 0\n",
       "deck                  0\n",
       "embark_town           0\n",
       "alone                 0\n",
       "dtype: int64"
      ]
     },
     "execution_count": 83,
     "metadata": {},
     "output_type": "execute_result"
    }
   ],
   "source": [
    "# Replacing null values\n",
    "df_modified.replace(np.nan, 0 ,inplace = True)\n",
    "df_modified.isnull().sum()"
   ]
  },
  {
   "cell_type": "markdown",
   "id": "29940eb9-de8f-4163-ac16-7e956cd31614",
   "metadata": {},
   "source": [
    "Replacing null values can be done in different ways, and it very depends on external knowledge about the variable's meaning. One very common thing to do, is to replace the null values by the **mode** of the variable, that is the most common value."
   ]
  },
  {
   "cell_type": "markdown",
   "id": "c0546830-0a20-4958-86d3-4159ac4634c6",
   "metadata": {},
   "source": [
    "### Mode"
   ]
  },
  {
   "cell_type": "code",
   "execution_count": null,
   "id": "0bca36e9-809c-48b0-a6b7-228a425eb036",
   "metadata": {},
   "outputs": [],
   "source": []
  },
  {
   "cell_type": "code",
   "execution_count": null,
   "id": "2bee65e2-1137-484f-b9e7-fa019cf5862e",
   "metadata": {},
   "outputs": [],
   "source": [
    "\n",
    "\n",
    "\n",
    "9. A quick box plot\n",
    "\n",
    "You can create a box plot for any numerical column using a single line of code.\n",
    "\n",
    "#Boxplot\n",
    "\n",
    "df[['Fare']].boxplot()\n",
    "\n",
    "Eda Boxplot\n",
    "10. Correlation Plot - EDA\n",
    "\n",
    "Finally, to find the correlation among the variables, we can make use of the correlation function. This will give you a fair idea of the correlation strength between different variables.\n",
    "\n",
    "#Correlation \n",
    "\n",
    "df.corr()\n",
    "\n",
    "Corr Matrix\n",
    "\n",
    "This is the correlation matrix with the range from +1 to -1 where +1 is highly and positively correlated and -1 will be highly negatively correlated.\n",
    "\n",
    "You can even visualize the correlation matrix using seaborn library as shown below.\n",
    "\n",
    "#Correlation plot\n",
    "\n",
    "sns.heatmap(df.corr())\n",
    "\n",
    "Sns Correlation Plot\n",
    "Ending Note - EDA\n",
    "\n",
    "EDA is the most important part of any analysis. You will get to know many things about your data. You will find answers to your most of the questions with EDA. I have tried to show most of the python functions used for exploring the data with visualizations. I hope you got something from this article.\n",
    "\n",
    "That’s all for now! Happy Python :)"
   ]
  }
 ],
 "metadata": {
  "kernelspec": {
   "display_name": "course-stats",
   "language": "python",
   "name": "course-stats"
  },
  "language_info": {
   "codemirror_mode": {
    "name": "ipython",
    "version": 3
   },
   "file_extension": ".py",
   "mimetype": "text/x-python",
   "name": "python",
   "nbconvert_exporter": "python",
   "pygments_lexer": "ipython3",
   "version": "3.11.4"
  }
 },
 "nbformat": 4,
 "nbformat_minor": 5
}
