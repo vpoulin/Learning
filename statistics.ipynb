{
 "cells": [
  {
   "cell_type": "markdown",
   "id": "37cf9fa7-81c7-479f-bd3e-35b98bdfd246",
   "metadata": {},
   "source": [
    "# Exploratory Data Analysis - EDA\n",
    "\n",
    "EDA is applied to investigate the data and summarize the key insights. It will give you the basic understanding of your data, it’s distribution, null values and much more.\n",
    "You can either explore data using graphs or through some python functions.\n",
    "There will be two type of analysis. Univariate and Bivariate. In the univariate, you will be analyzing a single attribute. But in the bivariate, you will be analyzing an attribute with the target attribute.\n",
    "In the non-graphical approach, you will be using functions such as shape, summary, describe, isnull, info, datatypes and more.\n",
    "In the graphical approach, you will be using plots such as scatter, box, bar, density and correlation plots.\n",
    "\n",
    "This notebook is a modified copy of https://www.digitalocean.com/community/tutorials/exploratory-data-analysis-python\n",
    "\n",
    "And from https://www.abs.gov.au/ausstats/abs@.nsf/lookup/1307.6feature+article1mar+2009#Why%20is%20it%20important"
   ]
  },
  {
   "cell_type": "markdown",
   "id": "1defdb4c-bbb6-4e9e-833c-eba0acc5c5e0",
   "metadata": {
    "jp-MarkdownHeadingCollapsed": true,
    "tags": []
   },
   "source": [
    "# Load the Data\n",
    "\n",
    "Well, first things first. We will load the titanic dataset into python to perform EDA.\n"
   ]
  },
  {
   "cell_type": "code",
   "execution_count": 49,
   "id": "afe1eee2-3b35-45d2-8843-bd584698afe6",
   "metadata": {},
   "outputs": [],
   "source": [
    "#Load the required libraries\n",
    "import pandas as pd\n",
    "import numpy as np\n",
    "import seaborn as sns\n",
    "import random\n",
    "import missingno as msno\n",
    "from matplotlib import pyplot as plt\n",
    "\n",
    "#Load the data\n",
    "df = sns.load_dataset('titanic')"
   ]
  },
  {
   "cell_type": "code",
   "execution_count": 2,
   "id": "47db1f06-3328-495e-94ee-8ec7060aaef9",
   "metadata": {},
   "outputs": [
    {
     "data": {
      "text/html": [
       "<div>\n",
       "<style scoped>\n",
       "    .dataframe tbody tr th:only-of-type {\n",
       "        vertical-align: middle;\n",
       "    }\n",
       "\n",
       "    .dataframe tbody tr th {\n",
       "        vertical-align: top;\n",
       "    }\n",
       "\n",
       "    .dataframe thead th {\n",
       "        text-align: right;\n",
       "    }\n",
       "</style>\n",
       "<table border=\"1\" class=\"dataframe\">\n",
       "  <thead>\n",
       "    <tr style=\"text-align: right;\">\n",
       "      <th></th>\n",
       "      <th>survived</th>\n",
       "      <th>pclass</th>\n",
       "      <th>sex</th>\n",
       "      <th>age</th>\n",
       "      <th>sibsp</th>\n",
       "      <th>parch</th>\n",
       "      <th>fare</th>\n",
       "      <th>embarked</th>\n",
       "      <th>class</th>\n",
       "      <th>who</th>\n",
       "      <th>adult_male</th>\n",
       "      <th>deck</th>\n",
       "      <th>embark_town</th>\n",
       "      <th>alive</th>\n",
       "      <th>alone</th>\n",
       "    </tr>\n",
       "  </thead>\n",
       "  <tbody>\n",
       "    <tr>\n",
       "      <th>0</th>\n",
       "      <td>0</td>\n",
       "      <td>3</td>\n",
       "      <td>male</td>\n",
       "      <td>22.0</td>\n",
       "      <td>1</td>\n",
       "      <td>0</td>\n",
       "      <td>7.2500</td>\n",
       "      <td>S</td>\n",
       "      <td>Third</td>\n",
       "      <td>man</td>\n",
       "      <td>True</td>\n",
       "      <td>NaN</td>\n",
       "      <td>Southampton</td>\n",
       "      <td>no</td>\n",
       "      <td>False</td>\n",
       "    </tr>\n",
       "    <tr>\n",
       "      <th>1</th>\n",
       "      <td>1</td>\n",
       "      <td>1</td>\n",
       "      <td>female</td>\n",
       "      <td>38.0</td>\n",
       "      <td>1</td>\n",
       "      <td>0</td>\n",
       "      <td>71.2833</td>\n",
       "      <td>C</td>\n",
       "      <td>First</td>\n",
       "      <td>woman</td>\n",
       "      <td>False</td>\n",
       "      <td>C</td>\n",
       "      <td>Cherbourg</td>\n",
       "      <td>yes</td>\n",
       "      <td>False</td>\n",
       "    </tr>\n",
       "    <tr>\n",
       "      <th>2</th>\n",
       "      <td>1</td>\n",
       "      <td>3</td>\n",
       "      <td>female</td>\n",
       "      <td>26.0</td>\n",
       "      <td>0</td>\n",
       "      <td>0</td>\n",
       "      <td>7.9250</td>\n",
       "      <td>S</td>\n",
       "      <td>Third</td>\n",
       "      <td>woman</td>\n",
       "      <td>False</td>\n",
       "      <td>NaN</td>\n",
       "      <td>Southampton</td>\n",
       "      <td>yes</td>\n",
       "      <td>True</td>\n",
       "    </tr>\n",
       "    <tr>\n",
       "      <th>3</th>\n",
       "      <td>1</td>\n",
       "      <td>1</td>\n",
       "      <td>female</td>\n",
       "      <td>35.0</td>\n",
       "      <td>1</td>\n",
       "      <td>0</td>\n",
       "      <td>53.1000</td>\n",
       "      <td>S</td>\n",
       "      <td>First</td>\n",
       "      <td>woman</td>\n",
       "      <td>False</td>\n",
       "      <td>C</td>\n",
       "      <td>Southampton</td>\n",
       "      <td>yes</td>\n",
       "      <td>False</td>\n",
       "    </tr>\n",
       "    <tr>\n",
       "      <th>4</th>\n",
       "      <td>0</td>\n",
       "      <td>3</td>\n",
       "      <td>male</td>\n",
       "      <td>35.0</td>\n",
       "      <td>0</td>\n",
       "      <td>0</td>\n",
       "      <td>8.0500</td>\n",
       "      <td>S</td>\n",
       "      <td>Third</td>\n",
       "      <td>man</td>\n",
       "      <td>True</td>\n",
       "      <td>NaN</td>\n",
       "      <td>Southampton</td>\n",
       "      <td>no</td>\n",
       "      <td>True</td>\n",
       "    </tr>\n",
       "  </tbody>\n",
       "</table>\n",
       "</div>"
      ],
      "text/plain": [
       "   survived  pclass     sex   age  sibsp  parch     fare embarked  class  \\\n",
       "0         0       3    male  22.0      1      0   7.2500        S  Third   \n",
       "1         1       1  female  38.0      1      0  71.2833        C  First   \n",
       "2         1       3  female  26.0      0      0   7.9250        S  Third   \n",
       "3         1       1  female  35.0      1      0  53.1000        S  First   \n",
       "4         0       3    male  35.0      0      0   8.0500        S  Third   \n",
       "\n",
       "     who  adult_male deck  embark_town alive  alone  \n",
       "0    man        True  NaN  Southampton    no  False  \n",
       "1  woman       False    C    Cherbourg   yes  False  \n",
       "2  woman       False  NaN  Southampton   yes   True  \n",
       "3  woman       False    C  Southampton   yes  False  \n",
       "4    man        True  NaN  Southampton    no   True  "
      ]
     },
     "execution_count": 2,
     "metadata": {},
     "output_type": "execute_result"
    }
   ],
   "source": [
    "#View the data\n",
    "df.head()"
   ]
  },
  {
   "cell_type": "code",
   "execution_count": 3,
   "id": "60a5511a-ea86-4bd4-b7f6-00e8f4d77978",
   "metadata": {},
   "outputs": [
    {
     "data": {
      "text/plain": [
       "(891, 15)"
      ]
     },
     "execution_count": 3,
     "metadata": {},
     "output_type": "execute_result"
    }
   ],
   "source": [
    "#Shape of the dataframe (num of rows, num of columns)\n",
    "df.shape"
   ]
  },
  {
   "cell_type": "markdown",
   "id": "b04976c2-1700-4028-a047-42032f676643",
   "metadata": {},
   "source": [
    "Our data is ready to be explored!"
   ]
  },
  {
   "cell_type": "markdown",
   "id": "69c0e794-0f21-4f50-9f86-f6574a3e61c3",
   "metadata": {
    "jp-MarkdownHeadingCollapsed": true,
    "tags": []
   },
   "source": [
    "# Basic information about data - EDA"
   ]
  },
  {
   "cell_type": "markdown",
   "id": "d179a2cc-c785-4ee4-a9a5-d5d4d7e4550d",
   "metadata": {
    "tags": []
   },
   "source": [
    "The df.info() function will give us the basic information about the dataset: the number of null values, datatypes, and memory usage. For any data, it is good to start by knowing its information. Let’s see how it works with our data. "
   ]
  },
  {
   "cell_type": "code",
   "execution_count": 4,
   "id": "977337e9-dec8-45d3-9e0b-0543705958a3",
   "metadata": {},
   "outputs": [
    {
     "name": "stdout",
     "output_type": "stream",
     "text": [
      "<class 'pandas.core.frame.DataFrame'>\n",
      "RangeIndex: 891 entries, 0 to 890\n",
      "Data columns (total 15 columns):\n",
      " #   Column       Non-Null Count  Dtype   \n",
      "---  ------       --------------  -----   \n",
      " 0   survived     891 non-null    int64   \n",
      " 1   pclass       891 non-null    int64   \n",
      " 2   sex          891 non-null    object  \n",
      " 3   age          714 non-null    float64 \n",
      " 4   sibsp        891 non-null    int64   \n",
      " 5   parch        891 non-null    int64   \n",
      " 6   fare         891 non-null    float64 \n",
      " 7   embarked     889 non-null    object  \n",
      " 8   class        891 non-null    category\n",
      " 9   who          891 non-null    object  \n",
      " 10  adult_male   891 non-null    bool    \n",
      " 11  deck         203 non-null    category\n",
      " 12  embark_town  889 non-null    object  \n",
      " 13  alive        891 non-null    object  \n",
      " 14  alone        891 non-null    bool    \n",
      "dtypes: bool(2), category(2), float64(2), int64(4), object(5)\n",
      "memory usage: 80.7+ KB\n"
     ]
    }
   ],
   "source": [
    "#Basic information\n",
    "\n",
    "df.info()"
   ]
  },
  {
   "cell_type": "markdown",
   "id": "96160e7e-b2b2-4310-831d-e66ef4bc6cd6",
   "metadata": {},
   "source": [
    "We see that we have 3 different types of data: int64, float64 and object. Before applying any analysis to this data, it is important to make sure we understand the meaning of each variable. "
   ]
  },
  {
   "cell_type": "markdown",
   "id": "00d68941-9e15-4531-bd96-343292e101a5",
   "metadata": {
    "tags": []
   },
   "source": [
    "### View missing data"
   ]
  },
  {
   "cell_type": "markdown",
   "id": "f1ea2d62-09b2-4964-a1a1-0895521fd4c2",
   "metadata": {},
   "source": [
    "Finding the null values is the most important step in the EDA. Ensuring the quality of data is paramount. So, let’s see how we can find the null values. If the your dataset is of a reasonable size, the library *missingno* can be used to view the distribution of the missing entries."
   ]
  },
  {
   "cell_type": "code",
   "execution_count": 5,
   "id": "d5dc6679-6372-496c-b6f6-9ce08b18daff",
   "metadata": {},
   "outputs": [
    {
     "data": {
      "text/plain": [
       "<Axes: >"
      ]
     },
     "execution_count": 5,
     "metadata": {},
     "output_type": "execute_result"
    },
    {
     "data": {
      "image/png": "[encoded data removed]",
      "text/plain": [
       "<Figure size 2500x1000 with 2 Axes>"
      ]
     },
     "metadata": {},
     "output_type": "display_data"
    }
   ],
   "source": [
    "msno.matrix(df)"
   ]
  },
  {
   "cell_type": "markdown",
   "id": "0b36ca18-6f38-4f2a-81b4-b4fc9024338e",
   "metadata": {},
   "source": [
    "We see that the column *deck* is very sparse and that the *age* column also has a lot of missing data. Here is another way to view exactly the counts of what is missing."
   ]
  },
  {
   "cell_type": "code",
   "execution_count": 6,
   "id": "15c20830-4893-4c01-9ed8-4a593c9cf204",
   "metadata": {},
   "outputs": [
    {
     "data": {
      "text/plain": [
       "survived         0\n",
       "pclass           0\n",
       "sex              0\n",
       "age            177\n",
       "sibsp            0\n",
       "parch            0\n",
       "fare             0\n",
       "embarked         2\n",
       "class            0\n",
       "who              0\n",
       "adult_male       0\n",
       "deck           688\n",
       "embark_town      2\n",
       "alive            0\n",
       "alone            0\n",
       "dtype: int64"
      ]
     },
     "execution_count": 6,
     "metadata": {},
     "output_type": "execute_result"
    }
   ],
   "source": [
    "df.isnull().sum()"
   ]
  },
  {
   "cell_type": "markdown",
   "id": "7d2df836-12a7-4329-a8cf-3d4ea8b4c75e",
   "metadata": {
    "tags": []
   },
   "source": [
    "### Duplicate records?\n",
    "\n",
    "You can use the df.duplicate.sum() function to the sum of duplicate value present if any. It will show the number of duplicate values if they are present in the data.\n"
   ]
  },
  {
   "cell_type": "code",
   "execution_count": 7,
   "id": "8408e3d0-68bc-418e-8bdd-420004ab3218",
   "metadata": {},
   "outputs": [
    {
     "data": {
      "text/plain": [
       "107"
      ]
     },
     "execution_count": 7,
     "metadata": {},
     "output_type": "execute_result"
    }
   ],
   "source": [
    "#Find the duplicates\n",
    "\n",
    "df.duplicated().sum()"
   ]
  },
  {
   "cell_type": "markdown",
   "id": "91739850-16ea-41be-b74e-af338acb1b88",
   "metadata": {},
   "source": [
    "This tells us that 107 rows have twin rows. We can look at these rows here. In this problem, duplicated rows is not an issue as it is not indicative of data entry issues. If the names and/or addresses of the passengers were part of the data, duplicated rows would be indicative of data collection problems. Let's look at the duplicated rows."
   ]
  },
  {
   "cell_type": "code",
   "execution_count": 8,
   "id": "dcd69d01-38e2-4f2f-9a39-62c257780a8d",
   "metadata": {
    "tags": []
   },
   "outputs": [
    {
     "data": {
      "text/html": [
       "<div>\n",
       "<style scoped>\n",
       "    .dataframe tbody tr th:only-of-type {\n",
       "        vertical-align: middle;\n",
       "    }\n",
       "\n",
       "    .dataframe tbody tr th {\n",
       "        vertical-align: top;\n",
       "    }\n",
       "\n",
       "    .dataframe thead th {\n",
       "        text-align: right;\n",
       "    }\n",
       "</style>\n",
       "<table border=\"1\" class=\"dataframe\">\n",
       "  <thead>\n",
       "    <tr style=\"text-align: right;\">\n",
       "      <th></th>\n",
       "      <th>survived</th>\n",
       "      <th>pclass</th>\n",
       "      <th>sex</th>\n",
       "      <th>age</th>\n",
       "      <th>sibsp</th>\n",
       "      <th>parch</th>\n",
       "      <th>fare</th>\n",
       "      <th>embarked</th>\n",
       "      <th>class</th>\n",
       "      <th>who</th>\n",
       "      <th>adult_male</th>\n",
       "      <th>deck</th>\n",
       "      <th>embark_town</th>\n",
       "      <th>alive</th>\n",
       "      <th>alone</th>\n",
       "    </tr>\n",
       "  </thead>\n",
       "  <tbody>\n",
       "    <tr>\n",
       "      <th>47</th>\n",
       "      <td>1</td>\n",
       "      <td>3</td>\n",
       "      <td>female</td>\n",
       "      <td>NaN</td>\n",
       "      <td>0</td>\n",
       "      <td>0</td>\n",
       "      <td>7.7500</td>\n",
       "      <td>Q</td>\n",
       "      <td>Third</td>\n",
       "      <td>woman</td>\n",
       "      <td>False</td>\n",
       "      <td>NaN</td>\n",
       "      <td>Queenstown</td>\n",
       "      <td>yes</td>\n",
       "      <td>True</td>\n",
       "    </tr>\n",
       "    <tr>\n",
       "      <th>76</th>\n",
       "      <td>0</td>\n",
       "      <td>3</td>\n",
       "      <td>male</td>\n",
       "      <td>NaN</td>\n",
       "      <td>0</td>\n",
       "      <td>0</td>\n",
       "      <td>7.8958</td>\n",
       "      <td>S</td>\n",
       "      <td>Third</td>\n",
       "      <td>man</td>\n",
       "      <td>True</td>\n",
       "      <td>NaN</td>\n",
       "      <td>Southampton</td>\n",
       "      <td>no</td>\n",
       "      <td>True</td>\n",
       "    </tr>\n",
       "    <tr>\n",
       "      <th>77</th>\n",
       "      <td>0</td>\n",
       "      <td>3</td>\n",
       "      <td>male</td>\n",
       "      <td>NaN</td>\n",
       "      <td>0</td>\n",
       "      <td>0</td>\n",
       "      <td>8.0500</td>\n",
       "      <td>S</td>\n",
       "      <td>Third</td>\n",
       "      <td>man</td>\n",
       "      <td>True</td>\n",
       "      <td>NaN</td>\n",
       "      <td>Southampton</td>\n",
       "      <td>no</td>\n",
       "      <td>True</td>\n",
       "    </tr>\n",
       "    <tr>\n",
       "      <th>87</th>\n",
       "      <td>0</td>\n",
       "      <td>3</td>\n",
       "      <td>male</td>\n",
       "      <td>NaN</td>\n",
       "      <td>0</td>\n",
       "      <td>0</td>\n",
       "      <td>8.0500</td>\n",
       "      <td>S</td>\n",
       "      <td>Third</td>\n",
       "      <td>man</td>\n",
       "      <td>True</td>\n",
       "      <td>NaN</td>\n",
       "      <td>Southampton</td>\n",
       "      <td>no</td>\n",
       "      <td>True</td>\n",
       "    </tr>\n",
       "    <tr>\n",
       "      <th>95</th>\n",
       "      <td>0</td>\n",
       "      <td>3</td>\n",
       "      <td>male</td>\n",
       "      <td>NaN</td>\n",
       "      <td>0</td>\n",
       "      <td>0</td>\n",
       "      <td>8.0500</td>\n",
       "      <td>S</td>\n",
       "      <td>Third</td>\n",
       "      <td>man</td>\n",
       "      <td>True</td>\n",
       "      <td>NaN</td>\n",
       "      <td>Southampton</td>\n",
       "      <td>no</td>\n",
       "      <td>True</td>\n",
       "    </tr>\n",
       "    <tr>\n",
       "      <th>...</th>\n",
       "      <td>...</td>\n",
       "      <td>...</td>\n",
       "      <td>...</td>\n",
       "      <td>...</td>\n",
       "      <td>...</td>\n",
       "      <td>...</td>\n",
       "      <td>...</td>\n",
       "      <td>...</td>\n",
       "      <td>...</td>\n",
       "      <td>...</td>\n",
       "      <td>...</td>\n",
       "      <td>...</td>\n",
       "      <td>...</td>\n",
       "      <td>...</td>\n",
       "      <td>...</td>\n",
       "    </tr>\n",
       "    <tr>\n",
       "      <th>870</th>\n",
       "      <td>0</td>\n",
       "      <td>3</td>\n",
       "      <td>male</td>\n",
       "      <td>26.0</td>\n",
       "      <td>0</td>\n",
       "      <td>0</td>\n",
       "      <td>7.8958</td>\n",
       "      <td>S</td>\n",
       "      <td>Third</td>\n",
       "      <td>man</td>\n",
       "      <td>True</td>\n",
       "      <td>NaN</td>\n",
       "      <td>Southampton</td>\n",
       "      <td>no</td>\n",
       "      <td>True</td>\n",
       "    </tr>\n",
       "    <tr>\n",
       "      <th>877</th>\n",
       "      <td>0</td>\n",
       "      <td>3</td>\n",
       "      <td>male</td>\n",
       "      <td>19.0</td>\n",
       "      <td>0</td>\n",
       "      <td>0</td>\n",
       "      <td>7.8958</td>\n",
       "      <td>S</td>\n",
       "      <td>Third</td>\n",
       "      <td>man</td>\n",
       "      <td>True</td>\n",
       "      <td>NaN</td>\n",
       "      <td>Southampton</td>\n",
       "      <td>no</td>\n",
       "      <td>True</td>\n",
       "    </tr>\n",
       "    <tr>\n",
       "      <th>878</th>\n",
       "      <td>0</td>\n",
       "      <td>3</td>\n",
       "      <td>male</td>\n",
       "      <td>NaN</td>\n",
       "      <td>0</td>\n",
       "      <td>0</td>\n",
       "      <td>7.8958</td>\n",
       "      <td>S</td>\n",
       "      <td>Third</td>\n",
       "      <td>man</td>\n",
       "      <td>True</td>\n",
       "      <td>NaN</td>\n",
       "      <td>Southampton</td>\n",
       "      <td>no</td>\n",
       "      <td>True</td>\n",
       "    </tr>\n",
       "    <tr>\n",
       "      <th>884</th>\n",
       "      <td>0</td>\n",
       "      <td>3</td>\n",
       "      <td>male</td>\n",
       "      <td>25.0</td>\n",
       "      <td>0</td>\n",
       "      <td>0</td>\n",
       "      <td>7.0500</td>\n",
       "      <td>S</td>\n",
       "      <td>Third</td>\n",
       "      <td>man</td>\n",
       "      <td>True</td>\n",
       "      <td>NaN</td>\n",
       "      <td>Southampton</td>\n",
       "      <td>no</td>\n",
       "      <td>True</td>\n",
       "    </tr>\n",
       "    <tr>\n",
       "      <th>886</th>\n",
       "      <td>0</td>\n",
       "      <td>2</td>\n",
       "      <td>male</td>\n",
       "      <td>27.0</td>\n",
       "      <td>0</td>\n",
       "      <td>0</td>\n",
       "      <td>13.0000</td>\n",
       "      <td>S</td>\n",
       "      <td>Second</td>\n",
       "      <td>man</td>\n",
       "      <td>True</td>\n",
       "      <td>NaN</td>\n",
       "      <td>Southampton</td>\n",
       "      <td>no</td>\n",
       "      <td>True</td>\n",
       "    </tr>\n",
       "  </tbody>\n",
       "</table>\n",
       "<p>107 rows × 15 columns</p>\n",
       "</div>"
      ],
      "text/plain": [
       "     survived  pclass     sex   age  sibsp  parch     fare embarked   class  \\\n",
       "47          1       3  female   NaN      0      0   7.7500        Q   Third   \n",
       "76          0       3    male   NaN      0      0   7.8958        S   Third   \n",
       "77          0       3    male   NaN      0      0   8.0500        S   Third   \n",
       "87          0       3    male   NaN      0      0   8.0500        S   Third   \n",
       "95          0       3    male   NaN      0      0   8.0500        S   Third   \n",
       "..        ...     ...     ...   ...    ...    ...      ...      ...     ...   \n",
       "870         0       3    male  26.0      0      0   7.8958        S   Third   \n",
       "877         0       3    male  19.0      0      0   7.8958        S   Third   \n",
       "878         0       3    male   NaN      0      0   7.8958        S   Third   \n",
       "884         0       3    male  25.0      0      0   7.0500        S   Third   \n",
       "886         0       2    male  27.0      0      0  13.0000        S  Second   \n",
       "\n",
       "       who  adult_male deck  embark_town alive  alone  \n",
       "47   woman       False  NaN   Queenstown   yes   True  \n",
       "76     man        True  NaN  Southampton    no   True  \n",
       "77     man        True  NaN  Southampton    no   True  \n",
       "87     man        True  NaN  Southampton    no   True  \n",
       "95     man        True  NaN  Southampton    no   True  \n",
       "..     ...         ...  ...          ...   ...    ...  \n",
       "870    man        True  NaN  Southampton    no   True  \n",
       "877    man        True  NaN  Southampton    no   True  \n",
       "878    man        True  NaN  Southampton    no   True  \n",
       "884    man        True  NaN  Southampton    no   True  \n",
       "886    man        True  NaN  Southampton    no   True  \n",
       "\n",
       "[107 rows x 15 columns]"
      ]
     },
     "execution_count": 8,
     "metadata": {},
     "output_type": "execute_result"
    }
   ],
   "source": [
    "df[df.duplicated()]"
   ]
  },
  {
   "cell_type": "code",
   "execution_count": 9,
   "id": "53d5ff3b-86c0-4e33-9cb8-a184dd213e1b",
   "metadata": {},
   "outputs": [
    {
     "data": {
      "text/html": [
       "<div>\n",
       "<style scoped>\n",
       "    .dataframe tbody tr th:only-of-type {\n",
       "        vertical-align: middle;\n",
       "    }\n",
       "\n",
       "    .dataframe tbody tr th {\n",
       "        vertical-align: top;\n",
       "    }\n",
       "\n",
       "    .dataframe thead th {\n",
       "        text-align: right;\n",
       "    }\n",
       "</style>\n",
       "<table border=\"1\" class=\"dataframe\">\n",
       "  <thead>\n",
       "    <tr style=\"text-align: right;\">\n",
       "      <th></th>\n",
       "      <th>survived</th>\n",
       "      <th>pclass</th>\n",
       "      <th>sex</th>\n",
       "      <th>age</th>\n",
       "      <th>sibsp</th>\n",
       "      <th>parch</th>\n",
       "      <th>fare</th>\n",
       "      <th>embarked</th>\n",
       "      <th>class</th>\n",
       "      <th>who</th>\n",
       "      <th>adult_male</th>\n",
       "      <th>deck</th>\n",
       "      <th>embark_town</th>\n",
       "      <th>alive</th>\n",
       "      <th>alone</th>\n",
       "      <th>RowCount</th>\n",
       "    </tr>\n",
       "  </thead>\n",
       "  <tbody>\n",
       "    <tr>\n",
       "      <th>80</th>\n",
       "      <td>1</td>\n",
       "      <td>1</td>\n",
       "      <td>female</td>\n",
       "      <td>24.0</td>\n",
       "      <td>0</td>\n",
       "      <td>0</td>\n",
       "      <td>69.3</td>\n",
       "      <td>C</td>\n",
       "      <td>First</td>\n",
       "      <td>woman</td>\n",
       "      <td>False</td>\n",
       "      <td>B</td>\n",
       "      <td>Cherbourg</td>\n",
       "      <td>yes</td>\n",
       "      <td>True</td>\n",
       "      <td>2</td>\n",
       "    </tr>\n",
       "  </tbody>\n",
       "</table>\n",
       "</div>"
      ],
      "text/plain": [
       "    survived  pclass     sex   age  sibsp  parch  fare embarked  class    who  \\\n",
       "80         1       1  female  24.0      0      0  69.3        C  First  woman   \n",
       "\n",
       "    adult_male deck embark_town alive  alone  RowCount  \n",
       "80       False    B   Cherbourg   yes   True         2  "
      ]
     },
     "execution_count": 9,
     "metadata": {},
     "output_type": "execute_result"
    }
   ],
   "source": [
    "df_row_counts = df.groupby(df.columns.tolist(), observed = True).size().reset_index(name='RowCount')\n",
    "df_row_counts[df_row_counts.RowCount>1].sort_values('RowCount', ascending=False)"
   ]
  },
  {
   "cell_type": "markdown",
   "id": "385addee-6914-4ff8-958c-997a667dfc47",
   "metadata": {},
   "source": [
    "The problem here is that the groupby function removes all rows with null entries (NaN). We need to specify to keep all rows by setting *dropna=False*. Another parameter we specify here is *observed=True*. This is very useful whenever you have a variable of type *category* (see the df.info() cell above)."
   ]
  },
  {
   "cell_type": "code",
   "execution_count": 36,
   "id": "ad30d553-83ee-4dec-8797-1735ac7a3e57",
   "metadata": {},
   "outputs": [
    {
     "data": {
      "text/html": [
       "<div>\n",
       "<style scoped>\n",
       "    .dataframe tbody tr th:only-of-type {\n",
       "        vertical-align: middle;\n",
       "    }\n",
       "\n",
       "    .dataframe tbody tr th {\n",
       "        vertical-align: top;\n",
       "    }\n",
       "\n",
       "    .dataframe thead th {\n",
       "        text-align: right;\n",
       "    }\n",
       "</style>\n",
       "<table border=\"1\" class=\"dataframe\">\n",
       "  <thead>\n",
       "    <tr style=\"text-align: right;\">\n",
       "      <th></th>\n",
       "      <th>survived</th>\n",
       "      <th>pclass</th>\n",
       "      <th>sex</th>\n",
       "      <th>age</th>\n",
       "      <th>sibsp</th>\n",
       "      <th>parch</th>\n",
       "      <th>fare</th>\n",
       "      <th>class</th>\n",
       "      <th>who</th>\n",
       "      <th>adult_male</th>\n",
       "      <th>deck</th>\n",
       "      <th>embark_town</th>\n",
       "      <th>alive</th>\n",
       "      <th>alone</th>\n",
       "      <th>is_child</th>\n",
       "      <th>RowCount</th>\n",
       "    </tr>\n",
       "  </thead>\n",
       "  <tbody>\n",
       "    <tr>\n",
       "      <th>440</th>\n",
       "      <td>0</td>\n",
       "      <td>3</td>\n",
       "      <td>male</td>\n",
       "      <td>NaN</td>\n",
       "      <td>0</td>\n",
       "      <td>0</td>\n",
       "      <td>7.8958</td>\n",
       "      <td>Third</td>\n",
       "      <td>man</td>\n",
       "      <td>True</td>\n",
       "      <td>NaN</td>\n",
       "      <td>Southampton</td>\n",
       "      <td>no</td>\n",
       "      <td>True</td>\n",
       "      <td>False</td>\n",
       "      <td>13</td>\n",
       "    </tr>\n",
       "    <tr>\n",
       "      <th>441</th>\n",
       "      <td>0</td>\n",
       "      <td>3</td>\n",
       "      <td>male</td>\n",
       "      <td>NaN</td>\n",
       "      <td>0</td>\n",
       "      <td>0</td>\n",
       "      <td>8.0500</td>\n",
       "      <td>Third</td>\n",
       "      <td>man</td>\n",
       "      <td>True</td>\n",
       "      <td>NaN</td>\n",
       "      <td>Southampton</td>\n",
       "      <td>no</td>\n",
       "      <td>True</td>\n",
       "      <td>False</td>\n",
       "      <td>12</td>\n",
       "    </tr>\n",
       "    <tr>\n",
       "      <th>436</th>\n",
       "      <td>0</td>\n",
       "      <td>3</td>\n",
       "      <td>male</td>\n",
       "      <td>NaN</td>\n",
       "      <td>0</td>\n",
       "      <td>0</td>\n",
       "      <td>7.7500</td>\n",
       "      <td>Third</td>\n",
       "      <td>man</td>\n",
       "      <td>True</td>\n",
       "      <td>NaN</td>\n",
       "      <td>Queenstown</td>\n",
       "      <td>no</td>\n",
       "      <td>True</td>\n",
       "      <td>False</td>\n",
       "      <td>8</td>\n",
       "    </tr>\n",
       "    <tr>\n",
       "      <th>730</th>\n",
       "      <td>1</td>\n",
       "      <td>3</td>\n",
       "      <td>female</td>\n",
       "      <td>NaN</td>\n",
       "      <td>0</td>\n",
       "      <td>0</td>\n",
       "      <td>7.7500</td>\n",
       "      <td>Third</td>\n",
       "      <td>woman</td>\n",
       "      <td>False</td>\n",
       "      <td>NaN</td>\n",
       "      <td>Queenstown</td>\n",
       "      <td>yes</td>\n",
       "      <td>True</td>\n",
       "      <td>False</td>\n",
       "      <td>7</td>\n",
       "    </tr>\n",
       "    <tr>\n",
       "      <th>158</th>\n",
       "      <td>0</td>\n",
       "      <td>2</td>\n",
       "      <td>male</td>\n",
       "      <td>NaN</td>\n",
       "      <td>0</td>\n",
       "      <td>0</td>\n",
       "      <td>0.0000</td>\n",
       "      <td>Second</td>\n",
       "      <td>man</td>\n",
       "      <td>True</td>\n",
       "      <td>NaN</td>\n",
       "      <td>Southampton</td>\n",
       "      <td>no</td>\n",
       "      <td>True</td>\n",
       "      <td>False</td>\n",
       "      <td>6</td>\n",
       "    </tr>\n",
       "  </tbody>\n",
       "</table>\n",
       "</div>"
      ],
      "text/plain": [
       "     survived  pclass     sex  age  sibsp  parch    fare   class    who  \\\n",
       "440         0       3    male  NaN      0      0  7.8958   Third    man   \n",
       "441         0       3    male  NaN      0      0  8.0500   Third    man   \n",
       "436         0       3    male  NaN      0      0  7.7500   Third    man   \n",
       "730         1       3  female  NaN      0      0  7.7500   Third  woman   \n",
       "158         0       2    male  NaN      0      0  0.0000  Second    man   \n",
       "\n",
       "     adult_male deck  embark_town alive  alone  is_child  RowCount  \n",
       "440        True  NaN  Southampton    no   True     False        13  \n",
       "441        True  NaN  Southampton    no   True     False        12  \n",
       "436        True  NaN   Queenstown    no   True     False         8  \n",
       "730       False  NaN   Queenstown   yes   True     False         7  \n",
       "158        True  NaN  Southampton    no   True     False         6  "
      ]
     },
     "execution_count": 36,
     "metadata": {},
     "output_type": "execute_result"
    }
   ],
   "source": [
    "df_row_counts = df.groupby(df.columns.tolist(), observed = True, dropna=False).size().reset_index(name='RowCount')\n",
    "df_row_counts[df_row_counts.RowCount>1].sort_values('RowCount', ascending=False).head()"
   ]
  },
  {
   "cell_type": "markdown",
   "id": "37f9050e-4025-4136-8d57-c83a2aff12cb",
   "metadata": {},
   "source": [
    "So how many unique rows do we have? Which rows a duplication of each other? In order to view this, we can group identical rows together by grouping over all colunms - *list(df.colunms)* - and counting the resulting rows."
   ]
  },
  {
   "cell_type": "code",
   "execution_count": 120,
   "id": "4082d62c-c1c5-46eb-b1c2-3f3f48e10fd0",
   "metadata": {},
   "outputs": [
    {
     "data": {
      "text/plain": [
       "(784, 16)"
      ]
     },
     "execution_count": 120,
     "metadata": {},
     "output_type": "execute_result"
    }
   ],
   "source": [
    "df_row_counts.shape"
   ]
  },
  {
   "cell_type": "markdown",
   "id": "9a321c5e-6d75-41b0-8cb6-acb20ae988fb",
   "metadata": {
    "jp-MarkdownHeadingCollapsed": true,
    "tags": []
   },
   "source": [
    "# Descriptive statistics - univariate"
   ]
  },
  {
   "cell_type": "markdown",
   "id": "eba63f26-e763-4c39-bae0-e5b3bda02f7f",
   "metadata": {},
   "source": [
    "A statistics summary gives information about the data in a sample. It can help understand the values better. It may include the total number of values, minimum value, and maximum value, along with the mean value and the standard deviation corresponding to a data collection. With this, you can understand the trends, outliers, and distribution of values in a data set. This is especially useful when dealing with large amounts of data as it can help in analyzing the data better. This information can be utilized to steer the rest of the analysis and derive more information about a data set. These are values that are calculated based on the sample data and do not go beyond the data on hand.  \n",
    " \n",
    " Descriptive statistics can show where the mean of a set of values lies. It can also help to understand if the data is skewed. Descriptive or summary statistics include: \n",
    "\n",
    "1. Description of the sample size (usually denoted by N)  \n",
    "2. Description of the center of the data or values (Mean value) \n",
    "3. Description of how the values are spread \n",
    "4. Plotted graphs and charts that help understand the distribution of values.  "
   ]
  },
  {
   "cell_type": "markdown",
   "id": "31b3a45d-48fe-4a8e-9b61-6687f312b8c5",
   "metadata": {
    "jp-MarkdownHeadingCollapsed": true,
    "tags": []
   },
   "source": [
    "## Categorical variables: counts, distributions and conditional distributions"
   ]
  },
  {
   "cell_type": "code",
   "execution_count": 40,
   "id": "6c09090f-db4a-4f01-aaf9-bcac292a90fb",
   "metadata": {},
   "outputs": [
    {
     "data": {
      "text/html": [
       "<div>\n",
       "<style scoped>\n",
       "    .dataframe tbody tr th:only-of-type {\n",
       "        vertical-align: middle;\n",
       "    }\n",
       "\n",
       "    .dataframe tbody tr th {\n",
       "        vertical-align: top;\n",
       "    }\n",
       "\n",
       "    .dataframe thead th {\n",
       "        text-align: right;\n",
       "    }\n",
       "</style>\n",
       "<table border=\"1\" class=\"dataframe\">\n",
       "  <thead>\n",
       "    <tr style=\"text-align: right;\">\n",
       "      <th></th>\n",
       "      <th>sex</th>\n",
       "      <th>class</th>\n",
       "      <th>who</th>\n",
       "      <th>adult_male</th>\n",
       "      <th>deck</th>\n",
       "      <th>embark_town</th>\n",
       "      <th>alive</th>\n",
       "      <th>alone</th>\n",
       "      <th>is_child</th>\n",
       "    </tr>\n",
       "  </thead>\n",
       "  <tbody>\n",
       "    <tr>\n",
       "      <th>count</th>\n",
       "      <td>891</td>\n",
       "      <td>891</td>\n",
       "      <td>891</td>\n",
       "      <td>891</td>\n",
       "      <td>203</td>\n",
       "      <td>889</td>\n",
       "      <td>891</td>\n",
       "      <td>891</td>\n",
       "      <td>891</td>\n",
       "    </tr>\n",
       "    <tr>\n",
       "      <th>unique</th>\n",
       "      <td>2</td>\n",
       "      <td>3</td>\n",
       "      <td>3</td>\n",
       "      <td>2</td>\n",
       "      <td>7</td>\n",
       "      <td>3</td>\n",
       "      <td>2</td>\n",
       "      <td>2</td>\n",
       "      <td>2</td>\n",
       "    </tr>\n",
       "    <tr>\n",
       "      <th>top</th>\n",
       "      <td>male</td>\n",
       "      <td>Third</td>\n",
       "      <td>man</td>\n",
       "      <td>True</td>\n",
       "      <td>C</td>\n",
       "      <td>Southampton</td>\n",
       "      <td>no</td>\n",
       "      <td>True</td>\n",
       "      <td>False</td>\n",
       "    </tr>\n",
       "    <tr>\n",
       "      <th>freq</th>\n",
       "      <td>577</td>\n",
       "      <td>491</td>\n",
       "      <td>537</td>\n",
       "      <td>537</td>\n",
       "      <td>59</td>\n",
       "      <td>644</td>\n",
       "      <td>549</td>\n",
       "      <td>537</td>\n",
       "      <td>808</td>\n",
       "    </tr>\n",
       "  </tbody>\n",
       "</table>\n",
       "</div>"
      ],
      "text/plain": [
       "         sex  class  who adult_male deck  embark_town alive alone is_child\n",
       "count    891    891  891        891  203          889   891   891      891\n",
       "unique     2      3    3          2    7            3     2     2        2\n",
       "top     male  Third  man       True    C  Southampton    no  True    False\n",
       "freq     577    491  537        537   59          644   549   537      808"
      ]
     },
     "execution_count": 40,
     "metadata": {},
     "output_type": "execute_result"
    }
   ],
   "source": [
    "#Describe the data - Descriptive statistics for categorical variables (object).\n",
    "\n",
    "df.describe(include=['object', 'bool', 'category'])"
   ]
  },
  {
   "cell_type": "markdown",
   "id": "958c7791-68ff-45e8-a217-e8cb3b07cd24",
   "metadata": {},
   "source": [
    "This gives an overview of all the non-numerical variables: sex, embarked, class, who, adult_male, deck, embark_town, alive and alone.\n",
    "* *count* gives the number of non-null entries.\n",
    "* *unique*, the number of unique values\n",
    "* *top*, the most frequent value, also called the *mode*\n",
    "* *freq*, the frequency of the top-value, of the mode"
   ]
  },
  {
   "cell_type": "markdown",
   "id": "d8c0d52f-915a-4279-9151-c74f02a5d92a",
   "metadata": {
    "tags": []
   },
   "source": [
    "### Unique values\n",
    "\n",
    "You can find the number of unique values in the particular column using unique() function in python."
   ]
  },
  {
   "cell_type": "markdown",
   "id": "a652d4b4-4a44-4c62-883f-acd8e159d18a",
   "metadata": {},
   "source": [
    "\n",
    "The unique() function has returned the unique values which are present in the data and it is pretty much cool!"
   ]
  },
  {
   "cell_type": "code",
   "execution_count": 41,
   "id": "017c80ed-cf61-48f3-9d85-337f90273c4b",
   "metadata": {},
   "outputs": [
    {
     "data": {
      "text/plain": [
       "array(['Southampton', 'Cherbourg', 'Queenstown', nan], dtype=object)"
      ]
     },
     "execution_count": 41,
     "metadata": {},
     "output_type": "execute_result"
    }
   ],
   "source": [
    "#unique values\n",
    "\n",
    "df['embark_town'].unique()"
   ]
  },
  {
   "cell_type": "code",
   "execution_count": 42,
   "id": "efffa70c-096c-4f65-9326-62f6d22cc732",
   "metadata": {},
   "outputs": [
    {
     "data": {
      "text/plain": [
       "array(['male', 'female'], dtype=object)"
      ]
     },
     "execution_count": 42,
     "metadata": {},
     "output_type": "execute_result"
    }
   ],
   "source": [
    "df['sex'].unique()"
   ]
  },
  {
   "cell_type": "code",
   "execution_count": 59,
   "id": "05ed4034-8d8c-464c-b1b7-2ed7881185b3",
   "metadata": {},
   "outputs": [
    {
     "data": {
      "text/plain": [
       "array(['man', 'woman', 'child'], dtype=object)"
      ]
     },
     "execution_count": 59,
     "metadata": {},
     "output_type": "execute_result"
    }
   ],
   "source": [
    "df['who'].unique()"
   ]
  },
  {
   "cell_type": "markdown",
   "id": "dfc7cd0c-6f9e-4b0b-9faa-01c608ca69eb",
   "metadata": {
    "tags": []
   },
   "source": [
    "### Visualize the Unique counts - categorical\n",
    "\n",
    "Yes, you can visualize the unique values present in the data. For this, we will be using the seaborn library. You have to call the sns.countlot() function and specify the variable to plot the count plot.\n"
   ]
  },
  {
   "cell_type": "code",
   "execution_count": 43,
   "id": "195de608-b3e3-491a-8db3-4c2f989bba3e",
   "metadata": {},
   "outputs": [
    {
     "data": {
      "text/plain": [
       "<Axes: xlabel='sex', ylabel='count'>"
      ]
     },
     "execution_count": 43,
     "metadata": {},
     "output_type": "execute_result"
    },
    {
     "data": {
      "image/png": "[encoded data removed]",
      "text/plain": [
       "<Figure size 640x480 with 1 Axes>"
      ]
     },
     "metadata": {},
     "output_type": "display_data"
    }
   ],
   "source": [
    "#Plot the unique values\n",
    "\n",
    "sns.countplot(data=df, x='sex')"
   ]
  },
  {
   "cell_type": "code",
   "execution_count": 44,
   "id": "e124caef-31b9-4240-b7b8-3a6803952945",
   "metadata": {},
   "outputs": [
    {
     "data": {
      "text/plain": [
       "<Axes: xlabel='survived', ylabel='count'>"
      ]
     },
     "execution_count": 44,
     "metadata": {},
     "output_type": "execute_result"
    },
    {
     "data": {
      "image/png": "[encoded data removed]",
      "text/plain": [
       "<Figure size 640x480 with 1 Axes>"
      ]
     },
     "metadata": {},
     "output_type": "display_data"
    }
   ],
   "source": [
    "#Plot the unique values\n",
    "\n",
    "sns.countplot(data=df, x='survived')"
   ]
  },
  {
   "cell_type": "markdown",
   "id": "068d210d-2f2d-4b70-b23d-3dd7a8b7ca7a",
   "metadata": {},
   "source": [
    "### Categorical : Conditional distributions.\n",
    "\n",
    "We can look at the resulting distributions when breaking down the data by various variables. This is called conditioning on a variable (*who* for instance). As we do this, we see that the survival distributions vary drastically when conditioned on the *who* variable."
   ]
  },
  {
   "cell_type": "code",
   "execution_count": 39,
   "id": "16914586-32bd-40ec-b2cc-499b4c4f5f4b",
   "metadata": {},
   "outputs": [
    {
     "data": {
      "text/plain": [
       "<Axes: xlabel='who', ylabel='count'>"
      ]
     },
     "execution_count": 39,
     "metadata": {},
     "output_type": "execute_result"
    },
    {
     "data": {
      "image/png": "[encoded data removed]",
      "text/plain": [
       "<Figure size 640x480 with 1 Axes>"
      ]
     },
     "metadata": {},
     "output_type": "display_data"
    }
   ],
   "source": [
    "sns.countplot(data=df, x='who', hue='survived')"
   ]
  },
  {
   "cell_type": "code",
   "execution_count": 38,
   "id": "5d691ed8-7fb3-46a7-aef5-640eaa7a7215",
   "metadata": {},
   "outputs": [
    {
     "data": {
      "text/plain": [
       "<Axes: xlabel='class', ylabel='count'>"
      ]
     },
     "execution_count": 38,
     "metadata": {},
     "output_type": "execute_result"
    },
    {
     "data": {
      "image/png": "[encoded data removed]",
      "text/plain": [
       "<Figure size 640x480 with 1 Axes>"
      ]
     },
     "metadata": {},
     "output_type": "display_data"
    }
   ],
   "source": [
    "sns.countplot(data=df, x='class', hue='survived')"
   ]
  },
  {
   "cell_type": "markdown",
   "id": "c724b546-73ab-49e8-a324-1b66fdc95d63",
   "metadata": {},
   "source": [
    "Can we state that the class has a direct impact on the survival rate? Quickly looking at the previous plot we could be tempted to say yes, but there might be underlying differences between population in the different classes. For instance, there might be a larger proportion of woman than man in the first class. So let's break the data into the who variable."
   ]
  },
  {
   "cell_type": "code",
   "execution_count": 47,
   "id": "78071aec-df02-4409-9ece-9d796ac049e0",
   "metadata": {},
   "outputs": [],
   "source": [
    "man_filter = df.who == 'man'\n",
    "woman_filter = df.who == 'woman'\n",
    "child_filter = df.who == 'child'"
   ]
  },
  {
   "cell_type": "code",
   "execution_count": 57,
   "id": "f11477e7-582f-4ff4-9d5b-fea4d7b168ed",
   "metadata": {},
   "outputs": [
    {
     "data": {
      "text/plain": [
       "[Text(0.5, 1.0, 'Children')]"
      ]
     },
     "execution_count": 57,
     "metadata": {},
     "output_type": "execute_result"
    },
    {
     "data": {
      "image/png": "[encoded data removed]",
      "text/plain": [
       "<Figure size 1000x1000 with 4 Axes>"
      ]
     },
     "metadata": {},
     "output_type": "display_data"
    }
   ],
   "source": [
    "fig, ax = plt.subplots(2,2, figsize=(10,10))\n",
    "sns.countplot(data=df, x='class', hue='survived', ax=ax[0,0]).set(title='All data')\n",
    "sns.countplot(data=df[man_filter], x='class', hue='survived', ax=ax[0,1]).set(title='Man')\n",
    "sns.countplot(data=df[woman_filter], x='class', hue='survived', ax=ax[1,0]).set(title='Woman')\n",
    "sns.countplot(data=df[child_filter], x='class', hue='survived', ax=ax[1,1]).set(title='Children')"
   ]
  },
  {
   "cell_type": "markdown",
   "id": "5e64edd2-f980-46ee-8373-abbedd3c0dc3",
   "metadata": {},
   "source": [
    "Interestingly, the survival rate is higher in third class than it is in second. And for children, the survival rate is higher in the second class than it is in the first. "
   ]
  },
  {
   "cell_type": "markdown",
   "id": "28ee0d3e-feec-4b24-8951-e65593708043",
   "metadata": {},
   "source": [
    "See https://cs.brown.edu/courses/cs100/students/project28/ for more details."
   ]
  },
  {
   "cell_type": "markdown",
   "id": "160d9394-41b1-4a12-a4be-5ec416f21837",
   "metadata": {
    "jp-MarkdownHeadingCollapsed": true,
    "tags": []
   },
   "source": [
    "## Numerical variables: quantiles, mean, variance and distributions"
   ]
  },
  {
   "cell_type": "markdown",
   "id": "e8e8ccc7-670b-4724-9a6f-1a74ad65cf15",
   "metadata": {},
   "source": [
    "Measures that indicate the approximate center of a distribution are called measures of central tendency or centrality measures. Measures that describe the spread of the data or its variability are measures of dispersion. These measures include the mean, median, mode, range, upper and lower quartiles, variance, and standard deviation."
   ]
  },
  {
   "cell_type": "code",
   "execution_count": 133,
   "id": "67fdd5f9-208d-475c-9618-0a6efd238014",
   "metadata": {},
   "outputs": [
    {
     "data": {
      "text/html": [
       "<div>\n",
       "<style scoped>\n",
       "    .dataframe tbody tr th:only-of-type {\n",
       "        vertical-align: middle;\n",
       "    }\n",
       "\n",
       "    .dataframe tbody tr th {\n",
       "        vertical-align: top;\n",
       "    }\n",
       "\n",
       "    .dataframe thead th {\n",
       "        text-align: right;\n",
       "    }\n",
       "</style>\n",
       "<table border=\"1\" class=\"dataframe\">\n",
       "  <thead>\n",
       "    <tr style=\"text-align: right;\">\n",
       "      <th></th>\n",
       "      <th>survived</th>\n",
       "      <th>pclass</th>\n",
       "      <th>age</th>\n",
       "      <th>sibsp</th>\n",
       "      <th>parch</th>\n",
       "      <th>fare</th>\n",
       "    </tr>\n",
       "  </thead>\n",
       "  <tbody>\n",
       "    <tr>\n",
       "      <th>count</th>\n",
       "      <td>891.000000</td>\n",
       "      <td>891.000000</td>\n",
       "      <td>714.000000</td>\n",
       "      <td>891.000000</td>\n",
       "      <td>891.000000</td>\n",
       "      <td>891.000000</td>\n",
       "    </tr>\n",
       "    <tr>\n",
       "      <th>mean</th>\n",
       "      <td>0.383838</td>\n",
       "      <td>2.308642</td>\n",
       "      <td>29.699118</td>\n",
       "      <td>0.523008</td>\n",
       "      <td>0.381594</td>\n",
       "      <td>32.204208</td>\n",
       "    </tr>\n",
       "    <tr>\n",
       "      <th>std</th>\n",
       "      <td>0.486592</td>\n",
       "      <td>0.836071</td>\n",
       "      <td>14.526497</td>\n",
       "      <td>1.102743</td>\n",
       "      <td>0.806057</td>\n",
       "      <td>49.693429</td>\n",
       "    </tr>\n",
       "    <tr>\n",
       "      <th>min</th>\n",
       "      <td>0.000000</td>\n",
       "      <td>1.000000</td>\n",
       "      <td>0.420000</td>\n",
       "      <td>0.000000</td>\n",
       "      <td>0.000000</td>\n",
       "      <td>0.000000</td>\n",
       "    </tr>\n",
       "    <tr>\n",
       "      <th>25%</th>\n",
       "      <td>0.000000</td>\n",
       "      <td>2.000000</td>\n",
       "      <td>20.125000</td>\n",
       "      <td>0.000000</td>\n",
       "      <td>0.000000</td>\n",
       "      <td>7.910400</td>\n",
       "    </tr>\n",
       "    <tr>\n",
       "      <th>50%</th>\n",
       "      <td>0.000000</td>\n",
       "      <td>3.000000</td>\n",
       "      <td>28.000000</td>\n",
       "      <td>0.000000</td>\n",
       "      <td>0.000000</td>\n",
       "      <td>14.454200</td>\n",
       "    </tr>\n",
       "    <tr>\n",
       "      <th>75%</th>\n",
       "      <td>1.000000</td>\n",
       "      <td>3.000000</td>\n",
       "      <td>38.000000</td>\n",
       "      <td>1.000000</td>\n",
       "      <td>0.000000</td>\n",
       "      <td>31.000000</td>\n",
       "    </tr>\n",
       "    <tr>\n",
       "      <th>max</th>\n",
       "      <td>1.000000</td>\n",
       "      <td>3.000000</td>\n",
       "      <td>80.000000</td>\n",
       "      <td>8.000000</td>\n",
       "      <td>6.000000</td>\n",
       "      <td>512.329200</td>\n",
       "    </tr>\n",
       "  </tbody>\n",
       "</table>\n",
       "</div>"
      ],
      "text/plain": [
       "         survived      pclass         age       sibsp       parch        fare\n",
       "count  891.000000  891.000000  714.000000  891.000000  891.000000  891.000000\n",
       "mean     0.383838    2.308642   29.699118    0.523008    0.381594   32.204208\n",
       "std      0.486592    0.836071   14.526497    1.102743    0.806057   49.693429\n",
       "min      0.000000    1.000000    0.420000    0.000000    0.000000    0.000000\n",
       "25%      0.000000    2.000000   20.125000    0.000000    0.000000    7.910400\n",
       "50%      0.000000    3.000000   28.000000    0.000000    0.000000   14.454200\n",
       "75%      1.000000    3.000000   38.000000    1.000000    0.000000   31.000000\n",
       "max      1.000000    3.000000   80.000000    8.000000    6.000000  512.329200"
      ]
     },
     "execution_count": 133,
     "metadata": {},
     "output_type": "execute_result"
    }
   ],
   "source": [
    "#Describe the data - Descriptive statistics for numerical variables.\n",
    "\n",
    "df.describe()"
   ]
  },
  {
   "cell_type": "markdown",
   "id": "601e1ab0-0f01-4507-9c26-c317fb7bac37",
   "metadata": {},
   "source": [
    "The values given are:\n",
    "* *count* gives the number of non-null entries.\n",
    "* *mean* is the average of non-null entries (a centrality measure)\n",
    "* *std* is the standard deviation (a dispersion measure)\n",
    "* *min* and *max* give the minimum and maximum values, the range.\n",
    "* *25%*, *50%* and *75%* give the different quantiles. Quantiles are based on data ordering.\n",
    "\n",
    "Note that the 50% quantile is also called the **median**. If the data has no outliers, the mean and the median are generally close values. The fact that the mean and the median of the variable *fare* are so different is probably indicative of very high fares. "
   ]
  },
  {
   "cell_type": "markdown",
   "id": "6da506e1-c926-4c67-b534-79adbd9d7238",
   "metadata": {},
   "source": [
    "### Quantiles"
   ]
  },
  {
   "cell_type": "markdown",
   "id": "6f4fa78d-a28d-44f2-b1a0-bf6cb544de57",
   "metadata": {},
   "source": [
    "Quantiles can be used to obtain centrality and dispersion measures. The centrality measure is obtained by the 50% quantile while the dispersion is the inter-quantile range, the difference between the 75% and 25% quantiles. The larger the IQR, the more disperse the data is. "
   ]
  },
  {
   "cell_type": "code",
   "execution_count": 136,
   "id": "cb73cca0-fa48-4e0d-af65-f699e31417ef",
   "metadata": {},
   "outputs": [],
   "source": [
    "data = [0,1,1,2,3,5,5,5,6,6,9,10,12,14,15,20,21,21,22,23]\n",
    "# data = [0,1,1,2,3,5,5,5,6,6,9,10,12,14,15,20,41,41,42,43]\n",
    "data = [0,1,1,2,3,5,5,5,6,6,9,10,12,14,15,20,41,41,52,63]"
   ]
  },
  {
   "cell_type": "code",
   "execution_count": 137,
   "id": "9971a142-d358-4cf8-9d0f-2840952cc3cc",
   "metadata": {},
   "outputs": [],
   "source": [
    "method = 'averaged_inverted_cdf'\n",
    "q1 = np.quantile(data, 0.25, method=method)\n",
    "q2 = np.quantile(data, 0.5, method=method)\n",
    "q3 = np.quantile(data, 0.75, method=method)"
   ]
  },
  {
   "cell_type": "code",
   "execution_count": 138,
   "id": "b7a3b30f-7fa1-4377-8e3c-2013550a020a",
   "metadata": {},
   "outputs": [
    {
     "data": {
      "text/plain": [
       "Text(7.9, 6.2, 'IQR = Q3 - Q1 = 13.5')"
      ]
     },
     "execution_count": 138,
     "metadata": {},
     "output_type": "execute_result"
    },
    {
     "data": {
      "image/png": "[encoded data removed]",
      "text/plain": [
       "<Figure size 640x480 with 1 Axes>"
      ]
     },
     "metadata": {},
     "output_type": "display_data"
    }
   ],
   "source": [
    "# Just specifying y coordinates so that data points don't overlap on the plot\n",
    "y = [1,1,2,1,1,1,2,3,1,2,1,1,1,1,1,1,1,2,1,1]\n",
    "ax = sns.scatterplot(x=data, y=y)\n",
    "ax.set(ylim=(0, 10))\n",
    "\n",
    "epsilon = 0.2\n",
    "ax.axvline(q1, color='green')\n",
    "ax.text(q1+epsilon, 8, 'Q1',color='green')\n",
    "\n",
    "ax.axvline(q2, color='red')\n",
    "ax.text(q2+epsilon, 8, 'Q2',color='red')\n",
    "\n",
    "ax.axvline(q3, color='purple')\n",
    "ax.text(q3+epsilon, 8, 'Q3',color='purple')\n",
    "\n",
    "ax.annotate(text='', xy=(q1,6), xytext=(q3,6), arrowprops=dict(arrowstyle='<->'))\n",
    "ax.text(q2+2*epsilon, 6.2, f'IQR = Q3 - Q1 = {q3-q1}')"
   ]
  },
  {
   "cell_type": "markdown",
   "id": "3565791e-7d08-49fe-9e09-32ab85dd6e91",
   "metadata": {},
   "source": [
    "### Mean and standard deviation"
   ]
  },
  {
   "cell_type": "markdown",
   "id": "68b8d87b-4c0e-4a15-8828-fdf6aefdfe35",
   "metadata": {},
   "source": [
    "The most common measure of central tendency, synonomous with the term \"average\", is the **mean**, often symbolized with $\\mu$ (population) or $\\bar{x}$ (sample):\n",
    "$$ \\bar{x} = \\frac{\\sum_{i=1}^n x_i}{n}. $$\n",
    "The mean gets used in many statements, conclusions and it pitfalls are not always clear to people. The mean is a centrality measure that is **not robust to outliers**. We will talk more about outliers in a moment. But for now, just be aware that the mean without a standard deviation caries very little information.\n",
    "\n",
    "As an example, the two following statements are true. \n",
    "* On average, number of child per US family was **2** in 2009.\n",
    "* On average, US presidents have been charged with **2** felonies.\n",
    "\n",
    "But the variances of the two underlying distributions are drastically different as a single president (out of 45) was charged with all 91 folonies."
   ]
  },
  {
   "cell_type": "code",
   "execution_count": 139,
   "id": "f363c4b7-0721-4f6c-b6cc-2fca5dddf490",
   "metadata": {},
   "outputs": [],
   "source": [
    "m = np.mean(data)\n",
    "std = np.std(data)"
   ]
  },
  {
   "cell_type": "code",
   "execution_count": 140,
   "id": "2558698d-5f9e-48d4-9b76-62bf325b6d63",
   "metadata": {},
   "outputs": [
    {
     "data": {
      "text/plain": [
       "Text(7.775, 6.2, 'Mean +/- Standard deviation')"
      ]
     },
     "execution_count": 140,
     "metadata": {},
     "output_type": "execute_result"
    },
    {
     "data": {
      "image/png": "[encoded data removed]",
      "text/plain": [
       "<Figure size 640x480 with 1 Axes>"
      ]
     },
     "metadata": {},
     "output_type": "display_data"
    }
   ],
   "source": [
    "# Just specifying y coordinates so that data points don't overlap on the plot\n",
    "y = [1,1,2,1,1,1,2,3,1,2,1,1,1,1,1,1,1,2,1,1]\n",
    "ax = sns.scatterplot(x=data, y=y)\n",
    "ax.set(ylim=(0, 10))\n",
    "\n",
    "epsilon = 0.2\n",
    "\n",
    "ax.axvline(m, color='red')\n",
    "ax.text(m+epsilon, 8, 'Mean',color='red')\n",
    "\n",
    "ax.annotate(text='', xy=(m-std,6), xytext=(m+std,6), arrowprops=dict(arrowstyle='<->'))\n",
    "ax.text(m/2, 6.2, f'Mean +/- Standard deviation')"
   ]
  },
  {
   "cell_type": "markdown",
   "id": "f2c4e825-1bf7-4aec-8b7a-e7aec035b593",
   "metadata": {},
   "source": [
    "### Distributions"
   ]
  },
  {
   "cell_type": "markdown",
   "id": "a89522df-1ba9-4771-a2a5-8c0db47fa83b",
   "metadata": {},
   "source": [
    "Let's look at the distributions and compute means and medians of some variables of our data. Note that instead of using np.mean and np.median to compute means and variance we use np.nanmean and np.nanmedian. This is because we want the NaN value to be ignored."
   ]
  },
  {
   "cell_type": "markdown",
   "id": "b673c653-81a8-45b3-b9b1-81943bb2e6c6",
   "metadata": {},
   "source": [
    "In the case of the variable *age*, the mean and median are very close. The mean is a little larger as some values are larger: right tail in the distribution."
   ]
  },
  {
   "cell_type": "code",
   "execution_count": 217,
   "id": "32d0e63f-b362-4e1b-bba4-e57d1bb18b93",
   "metadata": {},
   "outputs": [
    {
     "data": {
      "text/plain": [
       "[Text(0.5, 1.0, 'Age distribution')]"
      ]
     },
     "execution_count": 217,
     "metadata": {},
     "output_type": "execute_result"
    },
    {
     "data": {
      "image/png": "[encoded data removed]",
      "text/plain": [
       "<Figure size 640x480 with 1 Axes>"
      ]
     },
     "metadata": {},
     "output_type": "display_data"
    }
   ],
   "source": [
    "x = np.array(df.age)\n",
    "ax = sns.histplot(x, color = 'lightgray')\n",
    "ax.axvline(x = np.nanmean(x), color='orange')\n",
    "ax.axvline(x = np.nanmedian(x), color='green')\n",
    "ax.set(title='Age distribution')"
   ]
  },
  {
   "cell_type": "markdown",
   "id": "1960b8e1-710a-40a5-919f-c0747caef6a3",
   "metadata": {},
   "source": [
    "In the case of *fare*, the mean and the median are completely different: this is due to the presence of a small number of very expensive fares. As half of the people did pay less than \\\\$14.45 (median), some did pay over \\\\$500. As a result, the average fare is \\\\$32.20 (mean) but 680 travellers out of 891 paied less than this amount. The interpretation of the mean is very dependent on the distribution and the presence of outliers."
   ]
  },
  {
   "cell_type": "code",
   "execution_count": 218,
   "id": "3c17c415-ae7b-4ca9-a4e4-7d390b967259",
   "metadata": {},
   "outputs": [
    {
     "data": {
      "text/plain": [
       "[Text(0.5, 1.0, 'Fare distribution')]"
      ]
     },
     "execution_count": 218,
     "metadata": {},
     "output_type": "execute_result"
    },
    {
     "data": {
      "image/png": "[encoded data removed]",
      "text/plain": [
       "<Figure size 640x480 with 1 Axes>"
      ]
     },
     "metadata": {},
     "output_type": "display_data"
    }
   ],
   "source": [
    "x = np.array(df.fare)\n",
    "ax = sns.histplot(x, color = 'lightgray')\n",
    "ax.axvline(x = np.nanmean(x), color='orange')\n",
    "ax.axvline(x = np.nanmedian(x), color='green')\n",
    "ax.set(title = 'Fare distribution')"
   ]
  },
  {
   "cell_type": "code",
   "execution_count": 147,
   "id": "449b6858-27fa-43de-990d-360cf3c78e6a",
   "metadata": {},
   "outputs": [
    {
     "data": {
      "text/plain": [
       "680"
      ]
     },
     "execution_count": 147,
     "metadata": {},
     "output_type": "execute_result"
    }
   ],
   "source": [
    "sum(x<np.nanmean(x))"
   ]
  },
  {
   "cell_type": "markdown",
   "id": "1f0fb72c-1d85-4807-8fa3-7bfefe1bb83b",
   "metadata": {},
   "source": [
    "### Histogram robustness and density plot\n",
    "\n",
    "One of the hidden parameter of the histogram is the number of bins to group data into. By default, this value is computed automatically. However, it is interesting to see how the number of bins can drastically change our understanding of the data. For the variable *age* for instance, if the number of bins is small (3), we see a nearly flat distribution between ages of 0 and 55. In the case of 50 bins, the resolution is high and we see more *modes* appearing (3 high peaks)."
   ]
  },
  {
   "cell_type": "code",
   "execution_count": 204,
   "id": "98f56d4c-0918-4933-8498-a046ee33694d",
   "metadata": {},
   "outputs": [
    {
     "data": {
      "text/plain": [
       "[Text(0.5, 1.0, 'Number of bins:')]"
      ]
     },
     "execution_count": 204,
     "metadata": {},
     "output_type": "execute_result"
    },
    {
     "data": {
      "image/png": "[encoded data removed]",
      "text/plain": [
       "<Figure size 1000x1000 with 4 Axes>"
      ]
     },
     "metadata": {},
     "output_type": "display_data"
    }
   ],
   "source": [
    "fig, ax = plt.subplots(2,2, figsize=(10,10))\n",
    "sns.histplot(df, x='age', color = 'lightgray', ax=ax[0,0]).set(title='Number of bins: automatic')\n",
    "sns.histplot(df, x='age', color = 'lightgray', bins=3, ax=ax[0,1]).set(title='Number of bins:')\n",
    "sns.histplot(df, x='age', color = 'lightgray', bins=8, ax=ax[1,0]).set(title='Number of bins:')\n",
    "sns.histplot(df, x='age', color = 'lightgray', bins=50, ax=ax[1,1]).set(title='Number of bins:')"
   ]
  },
  {
   "cell_type": "markdown",
   "id": "8290a51e-3bbe-4e0c-a887-12a9bc9e1de2",
   "metadata": {},
   "source": [
    "#### Density plot"
   ]
  },
  {
   "cell_type": "code",
   "execution_count": 219,
   "id": "a2a54c23-4621-4b5c-9be2-ea42514e766e",
   "metadata": {},
   "outputs": [
    {
     "data": {
      "text/plain": [
       "<matplotlib.lines.Line2D at 0x7f6f67a43410>"
      ]
     },
     "execution_count": 219,
     "metadata": {},
     "output_type": "execute_result"
    },
    {
     "data": {
      "image/png": "[encoded data removed]",
      "text/plain": [
       "<Figure size 640x480 with 1 Axes>"
      ]
     },
     "metadata": {},
     "output_type": "display_data"
    }
   ],
   "source": [
    "x = np.array(df.fare)\n",
    "ax = sns.kdeplot(x, color = 'gray', )\n",
    "ax.axvline(x = np.nanmean(x), color='orange')\n",
    "ax.axvline(x = np.nanmedian(x), color='green')"
   ]
  },
  {
   "cell_type": "markdown",
   "id": "d7efea2c-821a-4227-9997-3f40fb09d041",
   "metadata": {
    "jp-MarkdownHeadingCollapsed": true,
    "tags": []
   },
   "source": [
    "# Outliers and robustness"
   ]
  },
  {
   "cell_type": "markdown",
   "id": "8d0c444c-37da-4096-9c92-367a4fd7dff9",
   "metadata": {},
   "source": [
    "An outlier is an observation that lies at an abnormal distance from other values. In a sense, this definition leaves it up to the analyst to decide what will be considered abnormal. Outlier data does not necessarily mean *erroneous data*. However, it sometimes can help identify data quality issues.\n",
    "Consider the following four quantities: \n",
    "\n",
    "* lower inner fence: Q1 - 1.5*IQ\n",
    "* upper inner fence: Q3 + 1.5*IQ\n",
    "* lower outer fence: Q1 - 3*IQ\n",
    "* upper outer fence: Q3 + 3*IQ \n",
    "\n",
    "Outlier detection criteria \n",
    "* points beyond an inner fence on either side is considered a **mild outliers**. \n",
    "* points beyond an outer fence is considered an **extreme outliers**. "
   ]
  },
  {
   "cell_type": "markdown",
   "id": "700a4fee-e3f0-4d88-8837-63f76c10901e",
   "metadata": {},
   "source": [
    "Let's introduce a real data entry problem: replace the age of 22 by the age of 2222 (probably a keyboard issue!) \n",
    "\n",
    "As we can see, this error affects some of the descriptive statistics we had studied before. Hence, it allows to see which statistics are more robust to outliers than others."
   ]
  },
  {
   "cell_type": "code",
   "execution_count": 220,
   "id": "25c11412-cf15-4e27-9d5e-7a6086bbaa13",
   "metadata": {},
   "outputs": [
    {
     "data": {
      "text/html": [
       "<div>\n",
       "<style scoped>\n",
       "    .dataframe tbody tr th:only-of-type {\n",
       "        vertical-align: middle;\n",
       "    }\n",
       "\n",
       "    .dataframe tbody tr th {\n",
       "        vertical-align: top;\n",
       "    }\n",
       "\n",
       "    .dataframe thead th {\n",
       "        text-align: right;\n",
       "    }\n",
       "</style>\n",
       "<table border=\"1\" class=\"dataframe\">\n",
       "  <thead>\n",
       "    <tr style=\"text-align: right;\">\n",
       "      <th></th>\n",
       "      <th>age</th>\n",
       "      <th>noisy_age</th>\n",
       "    </tr>\n",
       "  </thead>\n",
       "  <tbody>\n",
       "    <tr>\n",
       "      <th>count</th>\n",
       "      <td>714.000000</td>\n",
       "      <td>714.000000</td>\n",
       "    </tr>\n",
       "    <tr>\n",
       "      <th>mean</th>\n",
       "      <td>29.699118</td>\n",
       "      <td>32.780350</td>\n",
       "    </tr>\n",
       "    <tr>\n",
       "      <th>std</th>\n",
       "      <td>14.526497</td>\n",
       "      <td>83.319977</td>\n",
       "    </tr>\n",
       "    <tr>\n",
       "      <th>min</th>\n",
       "      <td>0.420000</td>\n",
       "      <td>0.420000</td>\n",
       "    </tr>\n",
       "    <tr>\n",
       "      <th>25%</th>\n",
       "      <td>20.125000</td>\n",
       "      <td>20.125000</td>\n",
       "    </tr>\n",
       "    <tr>\n",
       "      <th>50%</th>\n",
       "      <td>28.000000</td>\n",
       "      <td>28.000000</td>\n",
       "    </tr>\n",
       "    <tr>\n",
       "      <th>75%</th>\n",
       "      <td>38.000000</td>\n",
       "      <td>38.000000</td>\n",
       "    </tr>\n",
       "    <tr>\n",
       "      <th>max</th>\n",
       "      <td>80.000000</td>\n",
       "      <td>2222.000000</td>\n",
       "    </tr>\n",
       "  </tbody>\n",
       "</table>\n",
       "</div>"
      ],
      "text/plain": [
       "              age    noisy_age\n",
       "count  714.000000   714.000000\n",
       "mean    29.699118    32.780350\n",
       "std     14.526497    83.319977\n",
       "min      0.420000     0.420000\n",
       "25%     20.125000    20.125000\n",
       "50%     28.000000    28.000000\n",
       "75%     38.000000    38.000000\n",
       "max     80.000000  2222.000000"
      ]
     },
     "execution_count": 220,
     "metadata": {},
     "output_type": "execute_result"
    }
   ],
   "source": [
    "df_modified = df[['age']].copy()\n",
    "df_modified['noisy_age'] = df_modified['age']\n",
    "df_modified.loc[0, 'noisy_age'] = 2222\n",
    "df_modified.describe()"
   ]
  },
  {
   "cell_type": "markdown",
   "id": "13026683-d35e-49a8-90bc-08b4d39615d7",
   "metadata": {},
   "source": [
    "As we can see, an important outlier can change the mean and the standard deviation of the variable. The mean of the age went from 29.6 to 65. However, the quartiles are unchanged. Quartiles are more robust to such problems with the data.\n",
    "\n",
    "| Sensitive to outliers    | Robust to outliers |\n",
    "| -------- | ------- |\n",
    "|  -  | Count (number of entries)    |\n",
    "| Mean |  Median (quantile 50%)     |\n",
    "| Minimum    |  Low quantile (5%)  |\n",
    "| Maximum    |  High quantile (95%)   |\n",
    "| Range  |  Range from quantiles   |\n",
    "| -  |  Mode   |"
   ]
  },
  {
   "cell_type": "code",
   "execution_count": 221,
   "id": "1edddef5-e43b-4b72-abca-208d71a746db",
   "metadata": {},
   "outputs": [
    {
     "name": "stdout",
     "output_type": "stream",
     "text": [
      "Mild outliers of x_noisy is : \n",
      " [2222.    66.    65.    71.    70.5   65.    65.    71.    80.    70.\n",
      "   70.    74. ]\n",
      "Extreme outliers of x_noisy is : \n",
      " [2222.]\n"
     ]
    }
   ],
   "source": [
    "x_noisy = np.array(df_modified['noisy_age'])\n",
    "q1 = np.nanpercentile(x_noisy, 25)\n",
    "q3 = np.nanpercentile(x_noisy, 75)\n",
    "iqr = q3 - q1\n",
    "\n",
    "mild_threshold = 1.5 * iqr\n",
    "outliers = (x_noisy < q1 - mild_threshold) | (x_noisy > q3 + mild_threshold)\n",
    " \n",
    "print(\"Mild outliers of x_noisy is : \\n\", x_noisy[outliers])\n",
    "\n",
    "extreme_threshold = 3 * iqr\n",
    "outliers = (x_noisy < q1 - extreme_threshold) | (x_noisy > q3 + extreme_threshold)\n",
    " \n",
    "print(\"Extreme outliers of x_noisy is : \\n\", x_noisy[outliers])"
   ]
  },
  {
   "cell_type": "markdown",
   "id": "2e1f4dce-9994-4843-aeb4-d2b0920b2caf",
   "metadata": {
    "jp-MarkdownHeadingCollapsed": true,
    "tags": []
   },
   "source": [
    "# Redundant variables? Dependance and correlations"
   ]
  },
  {
   "cell_type": "markdown",
   "id": "47a2508c-2204-4f46-a941-36d40364f770",
   "metadata": {},
   "source": [
    "It is very important to understand what information each variable brings to the problem. If two variables are highly correlated or if one can be deduced from the other, than if has to be known and possibly removed from the variable set before feeding the data into any machine learning model. \n",
    "\n",
    "Another reason for identifying dependencies is missing value treatment: Consider two categorical variables X1 and X2 and they are trying to predict Y. X1 and X2 are highly correlated and so we have to pick one of them. Variable X1 is making more business sense but data is populated only for 90% of the records. So missing values of X1 can be easily imputed using X2 as they are correlated.\n",
    "\n",
    "Third reason is to understand the business better. Understanding relationship between variables is not much explored, but importance once understood can do wonders to the business. Performing deep dive analysis to identify hidden trends and relationships between various dimensions is something that can really help make decisions. Sometimes it can also help in validating the data which can further help in improving data quality."
   ]
  },
  {
   "cell_type": "markdown",
   "id": "1cbebf32-e851-48cf-8147-5c9dbc29aecf",
   "metadata": {},
   "source": [
    "### Categorical : Bivariate counts or Cramer V test\n",
    "\n",
    "In the Titanic example, the variables *embarked* and *embark_town* are dependant. Actually, they are identical. Clearly, one of the two can be dropped."
   ]
  },
  {
   "cell_type": "code",
   "execution_count": 222,
   "id": "9a24f2b5-92b0-4906-92d4-ed18371acfad",
   "metadata": {},
   "outputs": [
    {
     "data": {
      "text/html": [
       "<div>\n",
       "<style scoped>\n",
       "    .dataframe tbody tr th:only-of-type {\n",
       "        vertical-align: middle;\n",
       "    }\n",
       "\n",
       "    .dataframe tbody tr th {\n",
       "        vertical-align: top;\n",
       "    }\n",
       "\n",
       "    .dataframe thead th {\n",
       "        text-align: right;\n",
       "    }\n",
       "</style>\n",
       "<table border=\"1\" class=\"dataframe\">\n",
       "  <thead>\n",
       "    <tr style=\"text-align: right;\">\n",
       "      <th>embark_town</th>\n",
       "      <th>Cherbourg</th>\n",
       "      <th>Queenstown</th>\n",
       "      <th>Southampton</th>\n",
       "    </tr>\n",
       "    <tr>\n",
       "      <th>embarked</th>\n",
       "      <th></th>\n",
       "      <th></th>\n",
       "      <th></th>\n",
       "    </tr>\n",
       "  </thead>\n",
       "  <tbody>\n",
       "    <tr>\n",
       "      <th>C</th>\n",
       "      <td>168</td>\n",
       "      <td>0</td>\n",
       "      <td>0</td>\n",
       "    </tr>\n",
       "    <tr>\n",
       "      <th>Q</th>\n",
       "      <td>0</td>\n",
       "      <td>77</td>\n",
       "      <td>0</td>\n",
       "    </tr>\n",
       "    <tr>\n",
       "      <th>S</th>\n",
       "      <td>0</td>\n",
       "      <td>0</td>\n",
       "      <td>644</td>\n",
       "    </tr>\n",
       "  </tbody>\n",
       "</table>\n",
       "</div>"
      ],
      "text/plain": [
       "embark_town  Cherbourg  Queenstown  Southampton\n",
       "embarked                                       \n",
       "C                  168           0            0\n",
       "Q                    0          77            0\n",
       "S                    0           0          644"
      ]
     },
     "execution_count": 222,
     "metadata": {},
     "output_type": "execute_result"
    }
   ],
   "source": [
    "pd.crosstab(df['embarked'], df['embark_town'])"
   ]
  },
  {
   "cell_type": "markdown",
   "id": "6356547c-c79e-4b4b-9cd0-1ccbbc275eaa",
   "metadata": {},
   "source": [
    "The same can be said about *sex*, *who* and *adult_male* which are clearly dependant. These three variables could be replaced by two independent ones: *sex* and a boolean variable *is_child* for instance."
   ]
  },
  {
   "cell_type": "code",
   "execution_count": 223,
   "id": "07457d10-6029-48c3-b05c-c448176af372",
   "metadata": {},
   "outputs": [
    {
     "data": {
      "text/html": [
       "<div>\n",
       "<style scoped>\n",
       "    .dataframe tbody tr th:only-of-type {\n",
       "        vertical-align: middle;\n",
       "    }\n",
       "\n",
       "    .dataframe tbody tr th {\n",
       "        vertical-align: top;\n",
       "    }\n",
       "\n",
       "    .dataframe thead th {\n",
       "        text-align: right;\n",
       "    }\n",
       "</style>\n",
       "<table border=\"1\" class=\"dataframe\">\n",
       "  <thead>\n",
       "    <tr style=\"text-align: right;\">\n",
       "      <th></th>\n",
       "      <th>sex</th>\n",
       "      <th>who</th>\n",
       "      <th>adult_male</th>\n",
       "      <th>RowCount</th>\n",
       "    </tr>\n",
       "  </thead>\n",
       "  <tbody>\n",
       "    <tr>\n",
       "      <th>0</th>\n",
       "      <td>female</td>\n",
       "      <td>child</td>\n",
       "      <td>False</td>\n",
       "      <td>43</td>\n",
       "    </tr>\n",
       "    <tr>\n",
       "      <th>1</th>\n",
       "      <td>female</td>\n",
       "      <td>woman</td>\n",
       "      <td>False</td>\n",
       "      <td>271</td>\n",
       "    </tr>\n",
       "    <tr>\n",
       "      <th>2</th>\n",
       "      <td>male</td>\n",
       "      <td>child</td>\n",
       "      <td>False</td>\n",
       "      <td>40</td>\n",
       "    </tr>\n",
       "    <tr>\n",
       "      <th>3</th>\n",
       "      <td>male</td>\n",
       "      <td>man</td>\n",
       "      <td>True</td>\n",
       "      <td>537</td>\n",
       "    </tr>\n",
       "  </tbody>\n",
       "</table>\n",
       "</div>"
      ],
      "text/plain": [
       "      sex    who  adult_male  RowCount\n",
       "0  female  child       False        43\n",
       "1  female  woman       False       271\n",
       "2    male  child       False        40\n",
       "3    male    man        True       537"
      ]
     },
     "execution_count": 223,
     "metadata": {},
     "output_type": "execute_result"
    }
   ],
   "source": [
    "df.groupby(['sex', 'who', 'adult_male'], dropna=False).size().reset_index(name='RowCount')"
   ]
  },
  {
   "cell_type": "code",
   "execution_count": 162,
   "id": "54e1abc9-9549-4481-88d1-ac922199cd6f",
   "metadata": {},
   "outputs": [],
   "source": [
    "import association_metrics as am\n",
    "\n",
    "df_cat = df.apply(\n",
    "        lambda x: x.astype(\"category\") if (x.dtype == \"O\" or x.dtype == bool) else x)\n",
    "\n",
    "# Initialize a CamresV object using you pandas.DataFrame\n",
    "cramersv = am.CramersV(df_cat) \n",
    "\n",
    "#df_cat.info()"
   ]
  },
  {
   "cell_type": "code",
   "execution_count": 163,
   "id": "ce01748d-f07c-4344-9f0d-72c7455bc4d2",
   "metadata": {},
   "outputs": [
    {
     "data": {
      "text/html": [
       "<div>\n",
       "<style scoped>\n",
       "    .dataframe tbody tr th:only-of-type {\n",
       "        vertical-align: middle;\n",
       "    }\n",
       "\n",
       "    .dataframe tbody tr th {\n",
       "        vertical-align: top;\n",
       "    }\n",
       "\n",
       "    .dataframe thead th {\n",
       "        text-align: right;\n",
       "    }\n",
       "</style>\n",
       "<table border=\"1\" class=\"dataframe\">\n",
       "  <thead>\n",
       "    <tr style=\"text-align: right;\">\n",
       "      <th></th>\n",
       "      <th>sex</th>\n",
       "      <th>embarked</th>\n",
       "      <th>class</th>\n",
       "      <th>who</th>\n",
       "      <th>adult_male</th>\n",
       "      <th>deck</th>\n",
       "      <th>embark_town</th>\n",
       "      <th>alive</th>\n",
       "      <th>alone</th>\n",
       "    </tr>\n",
       "  </thead>\n",
       "  <tbody>\n",
       "    <tr>\n",
       "      <th>sex</th>\n",
       "      <td>1.000000</td>\n",
       "      <td>0.122569</td>\n",
       "      <td>0.138013</td>\n",
       "      <td>0.947675</td>\n",
       "      <td>0.908578</td>\n",
       "      <td>0.293260</td>\n",
       "      <td>0.122569</td>\n",
       "      <td>0.543351</td>\n",
       "      <td>0.303646</td>\n",
       "    </tr>\n",
       "    <tr>\n",
       "      <th>embarked</th>\n",
       "      <td>0.122569</td>\n",
       "      <td>1.000000</td>\n",
       "      <td>0.263821</td>\n",
       "      <td>0.092303</td>\n",
       "      <td>0.111508</td>\n",
       "      <td>0.226588</td>\n",
       "      <td>1.000000</td>\n",
       "      <td>0.172617</td>\n",
       "      <td>0.119957</td>\n",
       "    </tr>\n",
       "    <tr>\n",
       "      <th>class</th>\n",
       "      <td>0.138013</td>\n",
       "      <td>0.263821</td>\n",
       "      <td>1.000000</td>\n",
       "      <td>0.144761</td>\n",
       "      <td>0.106778</td>\n",
       "      <td>0.646118</td>\n",
       "      <td>0.263821</td>\n",
       "      <td>0.339817</td>\n",
       "      <td>0.135914</td>\n",
       "    </tr>\n",
       "    <tr>\n",
       "      <th>who</th>\n",
       "      <td>0.947675</td>\n",
       "      <td>0.092303</td>\n",
       "      <td>0.144761</td>\n",
       "      <td>1.000000</td>\n",
       "      <td>1.000000</td>\n",
       "      <td>0.321355</td>\n",
       "      <td>0.092303</td>\n",
       "      <td>0.564497</td>\n",
       "      <td>0.453343</td>\n",
       "    </tr>\n",
       "    <tr>\n",
       "      <th>adult_male</th>\n",
       "      <td>0.908578</td>\n",
       "      <td>0.111508</td>\n",
       "      <td>0.106778</td>\n",
       "      <td>1.000000</td>\n",
       "      <td>1.000000</td>\n",
       "      <td>0.269952</td>\n",
       "      <td>0.111508</td>\n",
       "      <td>0.557080</td>\n",
       "      <td>0.404744</td>\n",
       "    </tr>\n",
       "    <tr>\n",
       "      <th>deck</th>\n",
       "      <td>0.293260</td>\n",
       "      <td>0.226588</td>\n",
       "      <td>0.646118</td>\n",
       "      <td>0.321355</td>\n",
       "      <td>0.269952</td>\n",
       "      <td>1.000000</td>\n",
       "      <td>0.226588</td>\n",
       "      <td>0.202596</td>\n",
       "      <td>0.260397</td>\n",
       "    </tr>\n",
       "    <tr>\n",
       "      <th>embark_town</th>\n",
       "      <td>0.122569</td>\n",
       "      <td>1.000000</td>\n",
       "      <td>0.263821</td>\n",
       "      <td>0.092303</td>\n",
       "      <td>0.111508</td>\n",
       "      <td>0.226588</td>\n",
       "      <td>1.000000</td>\n",
       "      <td>0.172617</td>\n",
       "      <td>0.119957</td>\n",
       "    </tr>\n",
       "    <tr>\n",
       "      <th>alive</th>\n",
       "      <td>0.543351</td>\n",
       "      <td>0.172617</td>\n",
       "      <td>0.339817</td>\n",
       "      <td>0.564497</td>\n",
       "      <td>0.557080</td>\n",
       "      <td>0.202596</td>\n",
       "      <td>0.172617</td>\n",
       "      <td>1.000000</td>\n",
       "      <td>0.203367</td>\n",
       "    </tr>\n",
       "    <tr>\n",
       "      <th>alone</th>\n",
       "      <td>0.303646</td>\n",
       "      <td>0.119957</td>\n",
       "      <td>0.135914</td>\n",
       "      <td>0.453343</td>\n",
       "      <td>0.404744</td>\n",
       "      <td>0.260397</td>\n",
       "      <td>0.119957</td>\n",
       "      <td>0.203367</td>\n",
       "      <td>1.000000</td>\n",
       "    </tr>\n",
       "  </tbody>\n",
       "</table>\n",
       "</div>"
      ],
      "text/plain": [
       "                  sex  embarked     class       who  adult_male      deck  \\\n",
       "sex          1.000000  0.122569  0.138013  0.947675    0.908578  0.293260   \n",
       "embarked     0.122569  1.000000  0.263821  0.092303    0.111508  0.226588   \n",
       "class        0.138013  0.263821  1.000000  0.144761    0.106778  0.646118   \n",
       "who          0.947675  0.092303  0.144761  1.000000    1.000000  0.321355   \n",
       "adult_male   0.908578  0.111508  0.106778  1.000000    1.000000  0.269952   \n",
       "deck         0.293260  0.226588  0.646118  0.321355    0.269952  1.000000   \n",
       "embark_town  0.122569  1.000000  0.263821  0.092303    0.111508  0.226588   \n",
       "alive        0.543351  0.172617  0.339817  0.564497    0.557080  0.202596   \n",
       "alone        0.303646  0.119957  0.135914  0.453343    0.404744  0.260397   \n",
       "\n",
       "             embark_town     alive     alone  \n",
       "sex             0.122569  0.543351  0.303646  \n",
       "embarked        1.000000  0.172617  0.119957  \n",
       "class           0.263821  0.339817  0.135914  \n",
       "who             0.092303  0.564497  0.453343  \n",
       "adult_male      0.111508  0.557080  0.404744  \n",
       "deck            0.226588  0.202596  0.260397  \n",
       "embark_town     1.000000  0.172617  0.119957  \n",
       "alive           0.172617  1.000000  0.203367  \n",
       "alone           0.119957  0.203367  1.000000  "
      ]
     },
     "execution_count": 163,
     "metadata": {},
     "output_type": "execute_result"
    }
   ],
   "source": [
    "cramersv.fit()"
   ]
  },
  {
   "cell_type": "code",
   "execution_count": 164,
   "id": "b43b1e9a-0045-40d7-b0ff-0971781106e7",
   "metadata": {},
   "outputs": [
    {
     "data": {
      "text/plain": [
       "<Axes: >"
      ]
     },
     "execution_count": 164,
     "metadata": {},
     "output_type": "execute_result"
    },
    {
     "data": {
      "image/png": "[encoded data removed]",
      "text/plain": [
       "<Figure size 640x480 with 2 Axes>"
      ]
     },
     "metadata": {},
     "output_type": "display_data"
    }
   ],
   "source": [
    "sns.heatmap(cramersv.fit(), cmap=\"Blues\")"
   ]
  },
  {
   "cell_type": "markdown",
   "id": "4da93706-37cf-45d5-a99b-5d8dd508d11c",
   "metadata": {},
   "source": [
    "### Numerical : pairwise correlations, scatter plots and other plots"
   ]
  },
  {
   "cell_type": "markdown",
   "id": "080ff7c1-3283-4712-99eb-dbd449a75a43",
   "metadata": {},
   "source": [
    "We can also look at correlations between numerical variables: *linear correlations*. Note that large positive values or large negative values both indicate correlations. We can use the heatmap function on the absolute values of correlations to quickly grasp which variables are linked. \n",
    "\n",
    "$$ r_{xy} = \\frac{1}{n-1} \\sum_i \\big( \\frac{x_i - \\bar{x}}{s_x} \\big) \\big( \\frac{y_i - \\bar{y}}{s_y} \\big) $$\n",
    "\n",
    "with $ s_x = \\sqrt{\\frac{1}{n-1}\\sum_i (x_i - \\bar{x})^2}.$"
   ]
  },
  {
   "cell_type": "code",
   "execution_count": 122,
   "id": "297d89be-15aa-4e63-aafa-8e8106aaa3fd",
   "metadata": {},
   "outputs": [
    {
     "data": {
      "text/html": [
       "<div>\n",
       "<style scoped>\n",
       "    .dataframe tbody tr th:only-of-type {\n",
       "        vertical-align: middle;\n",
       "    }\n",
       "\n",
       "    .dataframe tbody tr th {\n",
       "        vertical-align: top;\n",
       "    }\n",
       "\n",
       "    .dataframe thead th {\n",
       "        text-align: right;\n",
       "    }\n",
       "</style>\n",
       "<table border=\"1\" class=\"dataframe\">\n",
       "  <thead>\n",
       "    <tr style=\"text-align: right;\">\n",
       "      <th></th>\n",
       "      <th>survived</th>\n",
       "      <th>pclass</th>\n",
       "      <th>age</th>\n",
       "      <th>sibsp</th>\n",
       "      <th>parch</th>\n",
       "      <th>fare</th>\n",
       "      <th>adult_male</th>\n",
       "      <th>alone</th>\n",
       "    </tr>\n",
       "  </thead>\n",
       "  <tbody>\n",
       "    <tr>\n",
       "      <th>survived</th>\n",
       "      <td>1.000000</td>\n",
       "      <td>-0.338481</td>\n",
       "      <td>-0.077221</td>\n",
       "      <td>-0.035322</td>\n",
       "      <td>0.081629</td>\n",
       "      <td>0.257307</td>\n",
       "      <td>-0.557080</td>\n",
       "      <td>-0.203367</td>\n",
       "    </tr>\n",
       "    <tr>\n",
       "      <th>pclass</th>\n",
       "      <td>-0.338481</td>\n",
       "      <td>1.000000</td>\n",
       "      <td>-0.369226</td>\n",
       "      <td>0.083081</td>\n",
       "      <td>0.018443</td>\n",
       "      <td>-0.549500</td>\n",
       "      <td>0.094035</td>\n",
       "      <td>0.135207</td>\n",
       "    </tr>\n",
       "    <tr>\n",
       "      <th>age</th>\n",
       "      <td>-0.077221</td>\n",
       "      <td>-0.369226</td>\n",
       "      <td>1.000000</td>\n",
       "      <td>-0.308247</td>\n",
       "      <td>-0.189119</td>\n",
       "      <td>0.096067</td>\n",
       "      <td>0.280328</td>\n",
       "      <td>0.198270</td>\n",
       "    </tr>\n",
       "    <tr>\n",
       "      <th>sibsp</th>\n",
       "      <td>-0.035322</td>\n",
       "      <td>0.083081</td>\n",
       "      <td>-0.308247</td>\n",
       "      <td>1.000000</td>\n",
       "      <td>0.414838</td>\n",
       "      <td>0.159651</td>\n",
       "      <td>-0.253586</td>\n",
       "      <td>-0.584471</td>\n",
       "    </tr>\n",
       "    <tr>\n",
       "      <th>parch</th>\n",
       "      <td>0.081629</td>\n",
       "      <td>0.018443</td>\n",
       "      <td>-0.189119</td>\n",
       "      <td>0.414838</td>\n",
       "      <td>1.000000</td>\n",
       "      <td>0.216225</td>\n",
       "      <td>-0.349943</td>\n",
       "      <td>-0.583398</td>\n",
       "    </tr>\n",
       "    <tr>\n",
       "      <th>fare</th>\n",
       "      <td>0.257307</td>\n",
       "      <td>-0.549500</td>\n",
       "      <td>0.096067</td>\n",
       "      <td>0.159651</td>\n",
       "      <td>0.216225</td>\n",
       "      <td>1.000000</td>\n",
       "      <td>-0.182024</td>\n",
       "      <td>-0.271832</td>\n",
       "    </tr>\n",
       "    <tr>\n",
       "      <th>adult_male</th>\n",
       "      <td>-0.557080</td>\n",
       "      <td>0.094035</td>\n",
       "      <td>0.280328</td>\n",
       "      <td>-0.253586</td>\n",
       "      <td>-0.349943</td>\n",
       "      <td>-0.182024</td>\n",
       "      <td>1.000000</td>\n",
       "      <td>0.404744</td>\n",
       "    </tr>\n",
       "    <tr>\n",
       "      <th>alone</th>\n",
       "      <td>-0.203367</td>\n",
       "      <td>0.135207</td>\n",
       "      <td>0.198270</td>\n",
       "      <td>-0.584471</td>\n",
       "      <td>-0.583398</td>\n",
       "      <td>-0.271832</td>\n",
       "      <td>0.404744</td>\n",
       "      <td>1.000000</td>\n",
       "    </tr>\n",
       "  </tbody>\n",
       "</table>\n",
       "</div>"
      ],
      "text/plain": [
       "            survived    pclass       age     sibsp     parch      fare  \\\n",
       "survived    1.000000 -0.338481 -0.077221 -0.035322  0.081629  0.257307   \n",
       "pclass     -0.338481  1.000000 -0.369226  0.083081  0.018443 -0.549500   \n",
       "age        -0.077221 -0.369226  1.000000 -0.308247 -0.189119  0.096067   \n",
       "sibsp      -0.035322  0.083081 -0.308247  1.000000  0.414838  0.159651   \n",
       "parch       0.081629  0.018443 -0.189119  0.414838  1.000000  0.216225   \n",
       "fare        0.257307 -0.549500  0.096067  0.159651  0.216225  1.000000   \n",
       "adult_male -0.557080  0.094035  0.280328 -0.253586 -0.349943 -0.182024   \n",
       "alone      -0.203367  0.135207  0.198270 -0.584471 -0.583398 -0.271832   \n",
       "\n",
       "            adult_male     alone  \n",
       "survived     -0.557080 -0.203367  \n",
       "pclass        0.094035  0.135207  \n",
       "age           0.280328  0.198270  \n",
       "sibsp        -0.253586 -0.584471  \n",
       "parch        -0.349943 -0.583398  \n",
       "fare         -0.182024 -0.271832  \n",
       "adult_male    1.000000  0.404744  \n",
       "alone         0.404744  1.000000  "
      ]
     },
     "execution_count": 122,
     "metadata": {},
     "output_type": "execute_result"
    }
   ],
   "source": [
    "df.corr(numeric_only=True)"
   ]
  },
  {
   "cell_type": "code",
   "execution_count": 125,
   "id": "da4677a5-d00c-452f-9bfe-b6a0455242a1",
   "metadata": {},
   "outputs": [
    {
     "data": {
      "text/plain": [
       "<Axes: >"
      ]
     },
     "execution_count": 125,
     "metadata": {},
     "output_type": "execute_result"
    },
    {
     "data": {
      "image/png": "[encoded data removed]",
      "text/plain": [
       "<Figure size 640x480 with 2 Axes>"
      ]
     },
     "metadata": {},
     "output_type": "display_data"
    }
   ],
   "source": [
    "sns.heatmap(abs(df.corr(numeric_only=True)), cmap=\"Blues\")"
   ]
  },
  {
   "cell_type": "markdown",
   "id": "75b67f09-bfcb-4776-a8a9-bbe0992464cf",
   "metadata": {},
   "source": [
    "We see in the plot that *fare* and *pclass* are correlated, and so are *alone*, *sibsp* and *parch*. The variables *survived* and *adult_male* are also correlated."
   ]
  },
  {
   "cell_type": "markdown",
   "id": "dfbfd7d2-e59d-46c0-9efa-acbcb3397cd4",
   "metadata": {},
   "source": [
    "We can also use a scatter plot to visualize how two variables jointly behave."
   ]
  },
  {
   "cell_type": "code",
   "execution_count": 172,
   "id": "9911a39a-a514-44f0-b4c5-5334123dda6d",
   "metadata": {},
   "outputs": [
    {
     "data": {
      "text/plain": [
       "<Axes: xlabel='pclass', ylabel='fare'>"
      ]
     },
     "execution_count": 172,
     "metadata": {},
     "output_type": "execute_result"
    },
    {
     "data": {
      "image/png": "[encoded data removed]",
      "text/plain": [
       "<Figure size 640x480 with 1 Axes>"
      ]
     },
     "metadata": {},
     "output_type": "display_data"
    }
   ],
   "source": [
    "sns.scatterplot(df, x='pclass', y='fare')"
   ]
  },
  {
   "cell_type": "markdown",
   "id": "d9446d7c-cf97-49e3-9ac5-a93da49f5dd2",
   "metadata": {},
   "source": [
    "Since the variable *pclass* on the x-axis is discrete and has a small number of values, other plots are more appropriate. For instance, we can use the **boxplots** or the **violinplots** in this case on the variable *fare* that we break down using *pclass*.\n",
    "\n",
    "* Boxplots show the quartiles of the distribution (Q1 and Q3 form the box boundaries, Q2 in the middle) and the two lines (whiskers) identify outliers.\n",
    "* Violinplots show density estimations of the variable."
   ]
  },
  {
   "cell_type": "code",
   "execution_count": 179,
   "id": "f3673d21-39d7-49d1-b95c-be234995812e",
   "metadata": {},
   "outputs": [
    {
     "data": {
      "text/plain": [
       "<Axes: xlabel='pclass', ylabel='fare'>"
      ]
     },
     "execution_count": 179,
     "metadata": {},
     "output_type": "execute_result"
    },
    {
     "data": {
      "image/png": "[encoded data removed]",
      "text/plain": [
       "<Figure size 640x480 with 1 Axes>"
      ]
     },
     "metadata": {},
     "output_type": "display_data"
    }
   ],
   "source": [
    "sns.boxplot(df, x='pclass', y='fare')"
   ]
  },
  {
   "cell_type": "code",
   "execution_count": 180,
   "id": "ebb0a166-928c-409b-abff-aa8734926760",
   "metadata": {},
   "outputs": [
    {
     "data": {
      "text/plain": [
       "<Axes: xlabel='pclass', ylabel='fare'>"
      ]
     },
     "execution_count": 180,
     "metadata": {},
     "output_type": "execute_result"
    },
    {
     "data": {
      "image/png": "[encoded data removed]",
      "text/plain": [
       "<Figure size 640x480 with 1 Axes>"
      ]
     },
     "metadata": {},
     "output_type": "display_data"
    }
   ],
   "source": [
    "sns.violinplot(df, x='pclass', y='fare')"
   ]
  },
  {
   "cell_type": "markdown",
   "id": "c4a1ccf1-8e38-4b39-870f-64959588c832",
   "metadata": {
    "jp-MarkdownHeadingCollapsed": true,
    "tags": []
   },
   "source": [
    "# Replace the Null values ?\n",
    "\n",
    "Oh no, we have some null values in the ‘Age’ and ‘Cabin’ variables. Hey, we got a replace() function to replace all the null values with a specific data. \n",
    "\n",
    "* Imputation? out of scope."
   ]
  },
  {
   "cell_type": "code",
   "execution_count": null,
   "id": "57c06578-2fb3-4844-a1de-0f3dd618a928",
   "metadata": {},
   "outputs": [
    {
     "data": {
      "text/plain": [
       "survived              0\n",
       "sex                   0\n",
       "age                   0\n",
       "n_siblings_spouses    0\n",
       "parch                 0\n",
       "fare                  0\n",
       "class                 0\n",
       "deck                  0\n",
       "embark_town           0\n",
       "alone                 0\n",
       "dtype: int64"
      ]
     },
     "execution_count": 83,
     "metadata": {},
     "output_type": "execute_result"
    }
   ],
   "source": [
    "# Replacing null values\n",
    "df_modified.replace(np.nan, 0 ,inplace = True)\n",
    "df_modified.isnull().sum()"
   ]
  },
  {
   "cell_type": "markdown",
   "id": "29940eb9-de8f-4163-ac16-7e956cd31614",
   "metadata": {},
   "source": [
    "Replacing null values can be done in different ways, and it very depends on external knowledge about the variable's meaning. One very common thing to do, is to replace the null values by the **mode** of the variable, that is the most common value."
   ]
  },
  {
   "cell_type": "markdown",
   "id": "6de06493-87b3-441e-92c1-58e95b88b444",
   "metadata": {
    "jp-MarkdownHeadingCollapsed": true,
    "tags": []
   },
   "source": [
    "# Statistical Pitfalls"
   ]
  },
  {
   "cell_type": "markdown",
   "id": "5911b987-b6c4-4926-bfd4-b8436000ba89",
   "metadata": {},
   "source": [
    "## Measures pitfalls"
   ]
  },
  {
   "cell_type": "markdown",
   "id": "94348dda-46b4-4a50-86b1-8e2bc70a99d2",
   "metadata": {},
   "source": [
    "**Use of basic summary numbers** <br>  \n",
    "\n",
    "Using basic summary numbers, such as *averages*, can sometimes be misleading.\n",
    "\n",
    "Example: <br>\n",
    "If houses in Hobart were advertised for sale at \\\\$275,000, \\\\$295,000, \\\\$300,000, \\\\$325,000 and \\\\$850,000 respectively, using the mean to calculate the average house price would produce a figure of \\\\$409,000. This gives an over-inflated impression of house values in Hobart. In reality, the median value of \\\\$300,000 would give a much more accurate picture of average house prices.\n",
    "\n",
    "**Use of proportions** <br>  \n",
    "\n",
    "Using proportions can also produce misleading conclusions, especially if the numbers involved are small.\n",
    "\n",
    "Example: <br>\n",
    "According to reliable crime and justice statistics, from 2005-06 to 2006-07, there was a 50% increase in the number of murders in Tasmania. While this is true, the actual numbers of murders increased from 4 to 6, not nearly as dramatic an increase as the percentage increase would have us believe.\n",
    "\n",
    "\n",
    "**Seasonal variations** <br>  \n",
    "\n",
    "Seasonal variations can influence results.\n",
    "\n",
    "Example: <br>\n",
    "Retail sales for March one year may be down the following year. At face value, it may be reasonable to conclude that business returns had suffered. However, it may simply be the effects of Easter shifting from March in the earlier year to April in the later year. To remove the effects of this type of seasonal variation, the ABS uses seasonal adjustment to standardise the data.\n"
   ]
  },
  {
   "cell_type": "markdown",
   "id": "d53c7ca0-5674-4388-ae06-00417bf9b42f",
   "metadata": {},
   "source": [
    "## Comparison pitfalls"
   ]
  },
  {
   "cell_type": "markdown",
   "id": "bf925f87-849f-47a1-863e-2290b625d733",
   "metadata": {
    "tags": []
   },
   "source": [
    "Be wary when making comparisons. Comparisons cannot be made between 'apples and oranges', only between 'oranges and oranges'. Care must be taken when:\n",
    "\n",
    "**Comparing data from different sources** <br> \n",
    "\n",
    "You need to consider whether the data sets are actually comparable.\n",
    "\n",
    "Example: <br>\n",
    "    ABS and Centrelink both collect information about unemployed persons, but the data sets are not comparable. ABS unemployed are defined by activity. That is, they are people who are without work, but have been actively seeking work in the past four weeks, and were available to start work last week. Centrelink unemployed are defined by their eligibility to receive unemployment benefits.\n",
    "\n",
    "\n",
    "**Changes have occurred** <br> \n",
    "\n",
    "Changes can occur to a data set over time, such as changes in classification, geography, sample size, methodology, etc.\n",
    "\n",
    "Example: <br>\n",
    "    New industry classification codes, known as Australian and New Zealand Standard Industrial Classification (ANZSIC), were developed in 2006, replacing the 1993 edition, which was the first version produced. ANZSIC 2006 codes reflect the changes that have occurred in the structure and composition of industry since the previous edition, and enhance international comparability. However, direct comparisons with ANZSIC 1993 cannot be made.\n",
    "\n",
    "\n",
    "**Definitions differ** <br> \n",
    "\n",
    "Definitions may differ depending on the context or the survey. Always check that you have the correct definition and are clear about what you are describing. Make sure you are aware of the data boundaries.\n",
    "\n",
    "Example: <br>\n",
    "The term 'child' can mean many different things. Depending on the context, a child could be someone:\n",
    "* aged under 13 years\n",
    "* aged under 15 years\n",
    "* aged under 18 years\n",
    "\n",
    "Be wary of making comparisons with other data sources - be sure to check that you are comparing apples with apples."
   ]
  },
  {
   "cell_type": "markdown",
   "id": "7b0cbc2f-63e8-40e9-8475-fa9317b5d647",
   "metadata": {},
   "source": [
    "## Correlation vs. Causation"
   ]
  },
  {
   "cell_type": "markdown",
   "id": "fb09b2bb-e585-4e23-b283-7a9bae3ee666",
   "metadata": {},
   "source": [
    "Correlation does not mean causation. The relationship between data and an event may be purely coincidental, or there may be multiple reasons behind an event taking place, with the data only reflecting one aspect of the relationship.\n",
    "\n",
    "Example: <br>\n",
    "    The increased number of shark attacks along the eastern seaboard of Australia in January 2009 may have corresponded with booming retail sales of sunscreen products. This retail boom just happened to coincide with the peak shark attack period, but the number of attacks is unlikely to be related to the increased use of sunscreen.\n"
   ]
  }
 ],
 "metadata": {
  "kernelspec": {
   "display_name": "course-stats",
   "language": "python",
   "name": "course-stats"
  },
  "language_info": {
   "codemirror_mode": {
    "name": "ipython",
    "version": 3
   },
   "file_extension": ".py",
   "mimetype": "text/x-python",
   "name": "python",
   "nbconvert_exporter": "python",
   "pygments_lexer": "ipython3",
   "version": "3.11.4"
  }
 },
 "nbformat": 4,
 "nbformat_minor": 5
}
